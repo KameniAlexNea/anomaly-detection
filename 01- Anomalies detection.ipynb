{
 "cells": [
  {
   "cell_type": "markdown",
   "metadata": {},
   "source": [
    "# Thyroid Disease dataset\n",
    "\n",
    "#### Dataset information\n",
    "\n",
    "The original [thyroid disease](https://archive.ics.uci.edu/ml/datasets/Thyroid+Disease) (ann-thyroid) dataset from [UCI machine learning repository](https://archive.ics.uci.edu/ml/) is a classification dataset, which is suited for training ANNs. It has 3772 training instances and 3428 testing instances. It has 15 categorical and 6 real attributes. The problem is to determine whether a patient referred to the clinic is hypothyroid. Therefore three classes are built: normal (not hypothyroid), hyperfunction and subnormal functioning. For outlier detection, 3772 training instances are used, with only 6 real attributes. The hyperfunction class is treated as outlier class and other two classes are inliers, because hyperfunction is a clear minority class.\n",
    "\n",
    "#### Source (citation)\n",
    "\n",
    "F. Keller, E. Muller, K. Bohm.“[HiCS: High-contrast subspaces for density-based outlier ranking.](https://www.ipd.kit.edu/~muellere/publications/ICDE2012.pdf)” ICDE, 2012.\n",
    "\n",
    "C. C. Aggarwal and S. Sathe, “[Theoretical foundations and algorithms for outlier ensembles.](http://www.kdd.org/exploration_files/Article4.pdf)” ACM SIGKDD Explorations Newsletter, vol. 17, no. 1, pp. 24–47, 2015.Downloads\n",
    "\n",
    "Saket Sathe and Charu C. Aggarwal. [LODES: Local Density meets Spectral Outlier Detection.](http://saketsathe.net/papers/lodes.pdf) SIAM Conference on Data Mining, 2016.\n",
    "\n",
    "#### Downloads\n",
    "\n",
    "File: [thyroid.mat](https://www.dropbox.com/s/bih0e15a0fukftb/thyroid.mat?dl=0)\n",
    "\n",
    "Description: X = Multi-dimensional point data, y = labels (1 = outliers, 0 = inliers)"
   ]
  },
  {
   "cell_type": "markdown",
   "metadata": {},
   "source": [
    "## Load necessary libraries\n",
    "\n",
    "We will use scipy to load .mat dataset in python\n",
    "\n",
    "You can print dataset after loading to visualize all keys in it"
   ]
  },
  {
   "cell_type": "code",
   "execution_count": 1,
   "metadata": {},
   "outputs": [],
   "source": [
    "import numpy as np\n",
    "import pandas as pd\n",
    "from matplotlib import pyplot as plt\n",
    "from scipy.io import loadmat\n",
    "\n",
    "np.random.seed(41)"
   ]
  },
  {
   "cell_type": "code",
   "execution_count": 2,
   "metadata": {},
   "outputs": [
    {
     "data": {
      "text/plain": [
       "((3772, 6), (3772, 1))"
      ]
     },
     "execution_count": 2,
     "metadata": {},
     "output_type": "execute_result"
    }
   ],
   "source": [
    "dataset = loadmat(\"./thyroid.mat\")\n",
    "X = dataset[\"X\"]\n",
    "y = dataset[\"y\"]\n",
    "\n",
    "X.shape, y.shape"
   ]
  },
  {
   "cell_type": "code",
   "execution_count": 3,
   "metadata": {},
   "outputs": [
    {
     "data": {
      "text/plain": [
       "Counter({0.0: 3679, 1.0: 93})"
      ]
     },
     "execution_count": 3,
     "metadata": {},
     "output_type": "execute_result"
    }
   ],
   "source": [
    "from collections import Counter\n",
    "\n",
    "Counter(y.reshape(-1).tolist())"
   ]
  },
  {
   "cell_type": "markdown",
   "metadata": {},
   "source": [
    "## Build dataframe from the dataset (X, y)"
   ]
  },
  {
   "cell_type": "code",
   "execution_count": 4,
   "metadata": {},
   "outputs": [],
   "source": [
    "train_df = pd.DataFrame(X, columns=[f\"TyphoidFeat{i+1}\" for i in range(X.shape[1])])\n",
    "train_df[\"label\"] = y.reshape(-1)"
   ]
  },
  {
   "cell_type": "markdown",
   "metadata": {},
   "source": [
    "Print 5 inputs per group"
   ]
  },
  {
   "cell_type": "code",
   "execution_count": 5,
   "metadata": {},
   "outputs": [
    {
     "data": {
      "text/html": [
       "<div>\n",
       "<style scoped>\n",
       "    .dataframe tbody tr th:only-of-type {\n",
       "        vertical-align: middle;\n",
       "    }\n",
       "\n",
       "    .dataframe tbody tr th {\n",
       "        vertical-align: top;\n",
       "    }\n",
       "\n",
       "    .dataframe thead th {\n",
       "        text-align: right;\n",
       "    }\n",
       "</style>\n",
       "<table border=\"1\" class=\"dataframe\">\n",
       "  <thead>\n",
       "    <tr style=\"text-align: right;\">\n",
       "      <th></th>\n",
       "      <th>TyphoidFeat1</th>\n",
       "      <th>TyphoidFeat2</th>\n",
       "      <th>TyphoidFeat3</th>\n",
       "      <th>TyphoidFeat4</th>\n",
       "      <th>TyphoidFeat5</th>\n",
       "      <th>TyphoidFeat6</th>\n",
       "      <th>label</th>\n",
       "    </tr>\n",
       "  </thead>\n",
       "  <tbody>\n",
       "    <tr>\n",
       "      <th>3580</th>\n",
       "      <td>0.569892</td>\n",
       "      <td>0.005094</td>\n",
       "      <td>0.175522</td>\n",
       "      <td>0.254673</td>\n",
       "      <td>0.375587</td>\n",
       "      <td>0.180328</td>\n",
       "      <td>0.0</td>\n",
       "    </tr>\n",
       "    <tr>\n",
       "      <th>156</th>\n",
       "      <td>0.548387</td>\n",
       "      <td>0.001698</td>\n",
       "      <td>0.251423</td>\n",
       "      <td>0.261682</td>\n",
       "      <td>0.525822</td>\n",
       "      <td>0.139344</td>\n",
       "      <td>0.0</td>\n",
       "    </tr>\n",
       "    <tr>\n",
       "      <th>2419</th>\n",
       "      <td>0.612903</td>\n",
       "      <td>0.001226</td>\n",
       "      <td>0.279886</td>\n",
       "      <td>0.210280</td>\n",
       "      <td>0.356808</td>\n",
       "      <td>0.147541</td>\n",
       "      <td>0.0</td>\n",
       "    </tr>\n",
       "    <tr>\n",
       "      <th>1693</th>\n",
       "      <td>0.182796</td>\n",
       "      <td>0.002264</td>\n",
       "      <td>0.175522</td>\n",
       "      <td>0.189252</td>\n",
       "      <td>0.417840</td>\n",
       "      <td>0.122951</td>\n",
       "      <td>0.0</td>\n",
       "    </tr>\n",
       "    <tr>\n",
       "      <th>626</th>\n",
       "      <td>0.591398</td>\n",
       "      <td>0.000755</td>\n",
       "      <td>0.213472</td>\n",
       "      <td>0.275701</td>\n",
       "      <td>0.394366</td>\n",
       "      <td>0.188525</td>\n",
       "      <td>0.0</td>\n",
       "    </tr>\n",
       "    <tr>\n",
       "      <th>2937</th>\n",
       "      <td>0.290323</td>\n",
       "      <td>0.194340</td>\n",
       "      <td>0.192600</td>\n",
       "      <td>0.147196</td>\n",
       "      <td>0.455399</td>\n",
       "      <td>0.088525</td>\n",
       "      <td>1.0</td>\n",
       "    </tr>\n",
       "    <tr>\n",
       "      <th>2728</th>\n",
       "      <td>0.000000</td>\n",
       "      <td>0.081132</td>\n",
       "      <td>0.086338</td>\n",
       "      <td>0.074182</td>\n",
       "      <td>0.394366</td>\n",
       "      <td>0.049984</td>\n",
       "      <td>1.0</td>\n",
       "    </tr>\n",
       "    <tr>\n",
       "      <th>3274</th>\n",
       "      <td>0.526882</td>\n",
       "      <td>0.109434</td>\n",
       "      <td>0.222960</td>\n",
       "      <td>0.053738</td>\n",
       "      <td>0.478873</td>\n",
       "      <td>0.029508</td>\n",
       "      <td>1.0</td>\n",
       "    </tr>\n",
       "    <tr>\n",
       "      <th>1836</th>\n",
       "      <td>0.634409</td>\n",
       "      <td>0.057547</td>\n",
       "      <td>0.090133</td>\n",
       "      <td>0.070093</td>\n",
       "      <td>0.206573</td>\n",
       "      <td>0.080328</td>\n",
       "      <td>1.0</td>\n",
       "    </tr>\n",
       "    <tr>\n",
       "      <th>2374</th>\n",
       "      <td>0.387097</td>\n",
       "      <td>0.103774</td>\n",
       "      <td>0.080645</td>\n",
       "      <td>0.100467</td>\n",
       "      <td>0.399061</td>\n",
       "      <td>0.067213</td>\n",
       "      <td>1.0</td>\n",
       "    </tr>\n",
       "  </tbody>\n",
       "</table>\n",
       "</div>"
      ],
      "text/plain": [
       "      TyphoidFeat1  TyphoidFeat2  TyphoidFeat3  TyphoidFeat4  TyphoidFeat5  \\\n",
       "3580      0.569892      0.005094      0.175522      0.254673      0.375587   \n",
       "156       0.548387      0.001698      0.251423      0.261682      0.525822   \n",
       "2419      0.612903      0.001226      0.279886      0.210280      0.356808   \n",
       "1693      0.182796      0.002264      0.175522      0.189252      0.417840   \n",
       "626       0.591398      0.000755      0.213472      0.275701      0.394366   \n",
       "2937      0.290323      0.194340      0.192600      0.147196      0.455399   \n",
       "2728      0.000000      0.081132      0.086338      0.074182      0.394366   \n",
       "3274      0.526882      0.109434      0.222960      0.053738      0.478873   \n",
       "1836      0.634409      0.057547      0.090133      0.070093      0.206573   \n",
       "2374      0.387097      0.103774      0.080645      0.100467      0.399061   \n",
       "\n",
       "      TyphoidFeat6  label  \n",
       "3580      0.180328    0.0  \n",
       "156       0.139344    0.0  \n",
       "2419      0.147541    0.0  \n",
       "1693      0.122951    0.0  \n",
       "626       0.188525    0.0  \n",
       "2937      0.088525    1.0  \n",
       "2728      0.049984    1.0  \n",
       "3274      0.029508    1.0  \n",
       "1836      0.080328    1.0  \n",
       "2374      0.067213    1.0  "
      ]
     },
     "execution_count": 5,
     "metadata": {},
     "output_type": "execute_result"
    }
   ],
   "source": [
    "train_df.groupby(\"label\").sample(5)"
   ]
  },
  {
   "cell_type": "code",
   "execution_count": 6,
   "metadata": {},
   "outputs": [
    {
     "data": {
      "text/html": [
       "<div>\n",
       "<style scoped>\n",
       "    .dataframe tbody tr th:only-of-type {\n",
       "        vertical-align: middle;\n",
       "    }\n",
       "\n",
       "    .dataframe tbody tr th {\n",
       "        vertical-align: top;\n",
       "    }\n",
       "\n",
       "    .dataframe thead th {\n",
       "        text-align: right;\n",
       "    }\n",
       "</style>\n",
       "<table border=\"1\" class=\"dataframe\">\n",
       "  <thead>\n",
       "    <tr style=\"text-align: right;\">\n",
       "      <th></th>\n",
       "      <th>TyphoidFeat1</th>\n",
       "      <th>TyphoidFeat2</th>\n",
       "      <th>TyphoidFeat3</th>\n",
       "      <th>TyphoidFeat4</th>\n",
       "      <th>TyphoidFeat5</th>\n",
       "      <th>TyphoidFeat6</th>\n",
       "      <th>label</th>\n",
       "    </tr>\n",
       "  </thead>\n",
       "  <tbody>\n",
       "    <tr>\n",
       "      <th>count</th>\n",
       "      <td>3772.000000</td>\n",
       "      <td>3772.000000</td>\n",
       "      <td>3772.000000</td>\n",
       "      <td>3772.000000</td>\n",
       "      <td>3772.000000</td>\n",
       "      <td>3772.000000</td>\n",
       "      <td>3772.000000</td>\n",
       "    </tr>\n",
       "    <tr>\n",
       "      <th>mean</th>\n",
       "      <td>0.543121</td>\n",
       "      <td>0.008983</td>\n",
       "      <td>0.186826</td>\n",
       "      <td>0.248332</td>\n",
       "      <td>0.376941</td>\n",
       "      <td>0.177301</td>\n",
       "      <td>0.024655</td>\n",
       "    </tr>\n",
       "    <tr>\n",
       "      <th>std</th>\n",
       "      <td>0.203790</td>\n",
       "      <td>0.043978</td>\n",
       "      <td>0.070405</td>\n",
       "      <td>0.080579</td>\n",
       "      <td>0.087382</td>\n",
       "      <td>0.054907</td>\n",
       "      <td>0.155093</td>\n",
       "    </tr>\n",
       "    <tr>\n",
       "      <th>min</th>\n",
       "      <td>0.000000</td>\n",
       "      <td>0.000000</td>\n",
       "      <td>0.000000</td>\n",
       "      <td>0.000000</td>\n",
       "      <td>0.000000</td>\n",
       "      <td>0.000000</td>\n",
       "      <td>0.000000</td>\n",
       "    </tr>\n",
       "    <tr>\n",
       "      <th>25%</th>\n",
       "      <td>0.376344</td>\n",
       "      <td>0.001132</td>\n",
       "      <td>0.156546</td>\n",
       "      <td>0.203271</td>\n",
       "      <td>0.328638</td>\n",
       "      <td>0.149180</td>\n",
       "      <td>0.000000</td>\n",
       "    </tr>\n",
       "    <tr>\n",
       "      <th>50%</th>\n",
       "      <td>0.569892</td>\n",
       "      <td>0.003019</td>\n",
       "      <td>0.190702</td>\n",
       "      <td>0.241822</td>\n",
       "      <td>0.375587</td>\n",
       "      <td>0.173770</td>\n",
       "      <td>0.000000</td>\n",
       "    </tr>\n",
       "    <tr>\n",
       "      <th>75%</th>\n",
       "      <td>0.709677</td>\n",
       "      <td>0.004528</td>\n",
       "      <td>0.213472</td>\n",
       "      <td>0.282710</td>\n",
       "      <td>0.413146</td>\n",
       "      <td>0.196721</td>\n",
       "      <td>0.000000</td>\n",
       "    </tr>\n",
       "    <tr>\n",
       "      <th>max</th>\n",
       "      <td>1.000000</td>\n",
       "      <td>1.000000</td>\n",
       "      <td>1.000000</td>\n",
       "      <td>1.000000</td>\n",
       "      <td>1.000000</td>\n",
       "      <td>1.000000</td>\n",
       "      <td>1.000000</td>\n",
       "    </tr>\n",
       "  </tbody>\n",
       "</table>\n",
       "</div>"
      ],
      "text/plain": [
       "       TyphoidFeat1  TyphoidFeat2  TyphoidFeat3  TyphoidFeat4  TyphoidFeat5  \\\n",
       "count   3772.000000   3772.000000   3772.000000   3772.000000   3772.000000   \n",
       "mean       0.543121      0.008983      0.186826      0.248332      0.376941   \n",
       "std        0.203790      0.043978      0.070405      0.080579      0.087382   \n",
       "min        0.000000      0.000000      0.000000      0.000000      0.000000   \n",
       "25%        0.376344      0.001132      0.156546      0.203271      0.328638   \n",
       "50%        0.569892      0.003019      0.190702      0.241822      0.375587   \n",
       "75%        0.709677      0.004528      0.213472      0.282710      0.413146   \n",
       "max        1.000000      1.000000      1.000000      1.000000      1.000000   \n",
       "\n",
       "       TyphoidFeat6        label  \n",
       "count   3772.000000  3772.000000  \n",
       "mean       0.177301     0.024655  \n",
       "std        0.054907     0.155093  \n",
       "min        0.000000     0.000000  \n",
       "25%        0.149180     0.000000  \n",
       "50%        0.173770     0.000000  \n",
       "75%        0.196721     0.000000  \n",
       "max        1.000000     1.000000  "
      ]
     },
     "execution_count": 6,
     "metadata": {},
     "output_type": "execute_result"
    }
   ],
   "source": [
    "train_df.describe()"
   ]
  },
  {
   "cell_type": "markdown",
   "metadata": {},
   "source": [
    "## Feature corralation matrix\n",
    "\n",
    "Some feature are higly correlated with the target value"
   ]
  },
  {
   "cell_type": "code",
   "execution_count": 7,
   "metadata": {},
   "outputs": [
    {
     "data": {
      "text/html": [
       "<style type=\"text/css\">\n",
       "#T_ab428_row0_col0, #T_ab428_row1_col1, #T_ab428_row2_col2, #T_ab428_row3_col3, #T_ab428_row4_col4, #T_ab428_row5_col5, #T_ab428_row6_col6 {\n",
       "  background-color: #08306b;\n",
       "  color: #f1f1f1;\n",
       "}\n",
       "#T_ab428_row0_col1, #T_ab428_row0_col3, #T_ab428_row0_col5, #T_ab428_row0_col6, #T_ab428_row1_col2, #T_ab428_row6_col0, #T_ab428_row6_col4 {\n",
       "  background-color: #f7fbff;\n",
       "  color: #000000;\n",
       "}\n",
       "#T_ab428_row0_col2, #T_ab428_row6_col2 {\n",
       "  background-color: #e8f1fa;\n",
       "  color: #000000;\n",
       "}\n",
       "#T_ab428_row0_col4 {\n",
       "  background-color: #dce9f6;\n",
       "  color: #000000;\n",
       "}\n",
       "#T_ab428_row1_col0 {\n",
       "  background-color: #eff6fc;\n",
       "  color: #000000;\n",
       "}\n",
       "#T_ab428_row1_col3 {\n",
       "  background-color: #caddf0;\n",
       "  color: #000000;\n",
       "}\n",
       "#T_ab428_row1_col4 {\n",
       "  background-color: #f0f6fd;\n",
       "  color: #000000;\n",
       "}\n",
       "#T_ab428_row1_col5 {\n",
       "  background-color: #c8dcf0;\n",
       "  color: #000000;\n",
       "}\n",
       "#T_ab428_row1_col6 {\n",
       "  background-color: #4a98c9;\n",
       "  color: #f1f1f1;\n",
       "}\n",
       "#T_ab428_row2_col0, #T_ab428_row2_col6 {\n",
       "  background-color: #cddff1;\n",
       "  color: #000000;\n",
       "}\n",
       "#T_ab428_row2_col1 {\n",
       "  background-color: #e0ecf8;\n",
       "  color: #000000;\n",
       "}\n",
       "#T_ab428_row2_col3 {\n",
       "  background-color: #6dafd7;\n",
       "  color: #f1f1f1;\n",
       "}\n",
       "#T_ab428_row2_col4 {\n",
       "  background-color: #a0cbe2;\n",
       "  color: #000000;\n",
       "}\n",
       "#T_ab428_row2_col5, #T_ab428_row4_col2 {\n",
       "  background-color: #bed8ec;\n",
       "  color: #000000;\n",
       "}\n",
       "#T_ab428_row3_col0, #T_ab428_row4_col6 {\n",
       "  background-color: #f2f8fd;\n",
       "  color: #000000;\n",
       "}\n",
       "#T_ab428_row3_col1 {\n",
       "  background-color: #ccdff1;\n",
       "  color: #000000;\n",
       "}\n",
       "#T_ab428_row3_col2 {\n",
       "  background-color: #8cc0dd;\n",
       "  color: #000000;\n",
       "}\n",
       "#T_ab428_row3_col4, #T_ab428_row4_col3 {\n",
       "  background-color: #95c5df;\n",
       "  color: #000000;\n",
       "}\n",
       "#T_ab428_row3_col5 {\n",
       "  background-color: #206fb4;\n",
       "  color: #f1f1f1;\n",
       "}\n",
       "#T_ab428_row3_col6 {\n",
       "  background-color: #abd0e6;\n",
       "  color: #000000;\n",
       "}\n",
       "#T_ab428_row4_col0 {\n",
       "  background-color: #d8e7f5;\n",
       "  color: #000000;\n",
       "}\n",
       "#T_ab428_row4_col1 {\n",
       "  background-color: #f3f8fe;\n",
       "  color: #000000;\n",
       "}\n",
       "#T_ab428_row4_col5 {\n",
       "  background-color: #dceaf6;\n",
       "  color: #000000;\n",
       "}\n",
       "#T_ab428_row5_col0 {\n",
       "  background-color: #eef5fc;\n",
       "  color: #000000;\n",
       "}\n",
       "#T_ab428_row5_col1 {\n",
       "  background-color: #c7dbef;\n",
       "  color: #000000;\n",
       "}\n",
       "#T_ab428_row5_col2 {\n",
       "  background-color: #d2e3f3;\n",
       "  color: #000000;\n",
       "}\n",
       "#T_ab428_row5_col3 {\n",
       "  background-color: #1e6db2;\n",
       "  color: #f1f1f1;\n",
       "}\n",
       "#T_ab428_row5_col4 {\n",
       "  background-color: #d9e7f5;\n",
       "  color: #000000;\n",
       "}\n",
       "#T_ab428_row5_col6 {\n",
       "  background-color: #a4cce3;\n",
       "  color: #000000;\n",
       "}\n",
       "#T_ab428_row6_col1 {\n",
       "  background-color: #4f9bcb;\n",
       "  color: #f1f1f1;\n",
       "}\n",
       "#T_ab428_row6_col3 {\n",
       "  background-color: #b2d2e8;\n",
       "  color: #000000;\n",
       "}\n",
       "#T_ab428_row6_col5 {\n",
       "  background-color: #aed1e7;\n",
       "  color: #000000;\n",
       "}\n",
       "</style>\n",
       "<table id=\"T_ab428\">\n",
       "  <thead>\n",
       "    <tr>\n",
       "      <th class=\"blank level0\" >&nbsp;</th>\n",
       "      <th id=\"T_ab428_level0_col0\" class=\"col_heading level0 col0\" >TyphoidFeat1</th>\n",
       "      <th id=\"T_ab428_level0_col1\" class=\"col_heading level0 col1\" >TyphoidFeat2</th>\n",
       "      <th id=\"T_ab428_level0_col2\" class=\"col_heading level0 col2\" >TyphoidFeat3</th>\n",
       "      <th id=\"T_ab428_level0_col3\" class=\"col_heading level0 col3\" >TyphoidFeat4</th>\n",
       "      <th id=\"T_ab428_level0_col4\" class=\"col_heading level0 col4\" >TyphoidFeat5</th>\n",
       "      <th id=\"T_ab428_level0_col5\" class=\"col_heading level0 col5\" >TyphoidFeat6</th>\n",
       "      <th id=\"T_ab428_level0_col6\" class=\"col_heading level0 col6\" >label</th>\n",
       "    </tr>\n",
       "  </thead>\n",
       "  <tbody>\n",
       "    <tr>\n",
       "      <th id=\"T_ab428_level0_row0\" class=\"row_heading level0 row0\" >TyphoidFeat1</th>\n",
       "      <td id=\"T_ab428_row0_col0\" class=\"data row0 col0\" >1.000000</td>\n",
       "      <td id=\"T_ab428_row0_col1\" class=\"data row0 col1\" >0.053253</td>\n",
       "      <td id=\"T_ab428_row0_col2\" class=\"data row0 col2\" >0.226474</td>\n",
       "      <td id=\"T_ab428_row0_col3\" class=\"data row0 col3\" >0.040146</td>\n",
       "      <td id=\"T_ab428_row0_col4\" class=\"data row0 col4\" >0.170440</td>\n",
       "      <td id=\"T_ab428_row0_col5\" class=\"data row0 col5\" >0.059247</td>\n",
       "      <td id=\"T_ab428_row0_col6\" class=\"data row0 col6\" >0.013753</td>\n",
       "    </tr>\n",
       "    <tr>\n",
       "      <th id=\"T_ab428_level0_row1\" class=\"row_heading level0 row1\" >TyphoidFeat2</th>\n",
       "      <td id=\"T_ab428_row1_col0\" class=\"data row1 col0\" >0.053253</td>\n",
       "      <td id=\"T_ab428_row1_col1\" class=\"data row1 col1\" >1.000000</td>\n",
       "      <td id=\"T_ab428_row1_col2\" class=\"data row1 col2\" >0.161426</td>\n",
       "      <td id=\"T_ab428_row1_col3\" class=\"data row1 col3\" >0.261677</td>\n",
       "      <td id=\"T_ab428_row1_col4\" class=\"data row1 col4\" >0.072012</td>\n",
       "      <td id=\"T_ab428_row1_col5\" class=\"data row1 col5\" >0.286846</td>\n",
       "      <td id=\"T_ab428_row1_col6\" class=\"data row1 col6\" >0.604791</td>\n",
       "    </tr>\n",
       "    <tr>\n",
       "      <th id=\"T_ab428_level0_row2\" class=\"row_heading level0 row2\" >TyphoidFeat3</th>\n",
       "      <td id=\"T_ab428_row2_col0\" class=\"data row2 col0\" >0.226474</td>\n",
       "      <td id=\"T_ab428_row2_col1\" class=\"data row2 col1\" >0.161426</td>\n",
       "      <td id=\"T_ab428_row2_col2\" class=\"data row2 col2\" >1.000000</td>\n",
       "      <td id=\"T_ab428_row2_col3\" class=\"data row2 col3\" >0.513076</td>\n",
       "      <td id=\"T_ab428_row2_col4\" class=\"data row2 col4\" >0.392945</td>\n",
       "      <td id=\"T_ab428_row2_col5\" class=\"data row2 col5\" >0.319112</td>\n",
       "      <td id=\"T_ab428_row2_col6\" class=\"data row2 col6\" >0.225713</td>\n",
       "    </tr>\n",
       "    <tr>\n",
       "      <th id=\"T_ab428_level0_row3\" class=\"row_heading level0 row3\" >TyphoidFeat4</th>\n",
       "      <td id=\"T_ab428_row3_col0\" class=\"data row3 col0\" >0.040146</td>\n",
       "      <td id=\"T_ab428_row3_col1\" class=\"data row3 col1\" >0.261677</td>\n",
       "      <td id=\"T_ab428_row3_col2\" class=\"data row3 col2\" >0.513076</td>\n",
       "      <td id=\"T_ab428_row3_col3\" class=\"data row3 col3\" >1.000000</td>\n",
       "      <td id=\"T_ab428_row3_col4\" class=\"data row3 col4\" >0.420842</td>\n",
       "      <td id=\"T_ab428_row3_col5\" class=\"data row3 col5\" >0.771332</td>\n",
       "      <td id=\"T_ab428_row3_col6\" class=\"data row3 col6\" >0.343590</td>\n",
       "    </tr>\n",
       "    <tr>\n",
       "      <th id=\"T_ab428_level0_row4\" class=\"row_heading level0 row4\" >TyphoidFeat5</th>\n",
       "      <td id=\"T_ab428_row4_col0\" class=\"data row4 col0\" >0.170440</td>\n",
       "      <td id=\"T_ab428_row4_col1\" class=\"data row4 col1\" >0.072012</td>\n",
       "      <td id=\"T_ab428_row4_col2\" class=\"data row4 col2\" >0.392945</td>\n",
       "      <td id=\"T_ab428_row4_col3\" class=\"data row4 col3\" >0.420842</td>\n",
       "      <td id=\"T_ab428_row4_col4\" class=\"data row4 col4\" >1.000000</td>\n",
       "      <td id=\"T_ab428_row4_col5\" class=\"data row4 col5\" >0.187793</td>\n",
       "      <td id=\"T_ab428_row4_col6\" class=\"data row4 col6\" >0.038140</td>\n",
       "    </tr>\n",
       "    <tr>\n",
       "      <th id=\"T_ab428_level0_row5\" class=\"row_heading level0 row5\" >TyphoidFeat6</th>\n",
       "      <td id=\"T_ab428_row5_col0\" class=\"data row5 col0\" >0.059247</td>\n",
       "      <td id=\"T_ab428_row5_col1\" class=\"data row5 col1\" >0.286846</td>\n",
       "      <td id=\"T_ab428_row5_col2\" class=\"data row5 col2\" >0.319112</td>\n",
       "      <td id=\"T_ab428_row5_col3\" class=\"data row5 col3\" >0.771332</td>\n",
       "      <td id=\"T_ab428_row5_col4\" class=\"data row5 col4\" >0.187793</td>\n",
       "      <td id=\"T_ab428_row5_col5\" class=\"data row5 col5\" >1.000000</td>\n",
       "      <td id=\"T_ab428_row5_col6\" class=\"data row5 col6\" >0.366111</td>\n",
       "    </tr>\n",
       "    <tr>\n",
       "      <th id=\"T_ab428_level0_row6\" class=\"row_heading level0 row6\" >label</th>\n",
       "      <td id=\"T_ab428_row6_col0\" class=\"data row6 col0\" >0.013753</td>\n",
       "      <td id=\"T_ab428_row6_col1\" class=\"data row6 col1\" >0.604791</td>\n",
       "      <td id=\"T_ab428_row6_col2\" class=\"data row6 col2\" >0.225713</td>\n",
       "      <td id=\"T_ab428_row6_col3\" class=\"data row6 col3\" >0.343590</td>\n",
       "      <td id=\"T_ab428_row6_col4\" class=\"data row6 col4\" >0.038140</td>\n",
       "      <td id=\"T_ab428_row6_col5\" class=\"data row6 col5\" >0.366111</td>\n",
       "      <td id=\"T_ab428_row6_col6\" class=\"data row6 col6\" >1.000000</td>\n",
       "    </tr>\n",
       "  </tbody>\n",
       "</table>\n"
      ],
      "text/plain": [
       "<pandas.io.formats.style.Styler at 0x7f67191e9b80>"
      ]
     },
     "execution_count": 7,
     "metadata": {},
     "output_type": "execute_result"
    }
   ],
   "source": [
    "train_df.corr().abs().style.background_gradient(\"Blues\")"
   ]
  },
  {
   "cell_type": "code",
   "execution_count": 8,
   "metadata": {},
   "outputs": [],
   "source": [
    "features = train_df.columns[:-1]"
   ]
  },
  {
   "cell_type": "markdown",
   "metadata": {},
   "source": [
    "## Try visualizing for different functions\n",
    "- $x => np.log(x)$\n",
    "- $x => np.log(1 + x)$\n",
    "- $x => x^{1/3}$\n",
    "- $x => x^{1/4}$"
   ]
  },
  {
   "cell_type": "code",
   "execution_count": 9,
   "metadata": {},
   "outputs": [
    {
     "data": {
      "image/png": "[encoded data removed]",
      "text/plain": [
       "<Figure size 864x1800 with 6 Axes>"
      ]
     },
     "metadata": {
      "needs_background": "light"
     },
     "output_type": "display_data"
    }
   ],
   "source": [
    "train_df[features].plot.hist(subplots=True, figsize=(12, 25))\n",
    "plt.show()"
   ]
  },
  {
   "cell_type": "markdown",
   "metadata": {},
   "source": [
    "Considered functions :\n",
    "- $x_1 => x_1$\n",
    "- $x_2 => np.log(x_2)$\n",
    "- $x_3 => x_3^{1/4}$\n",
    "- $x_4 => x_4^{1/4}$\n",
    "- $x_5 => np.log(x_5 + 1)$\n",
    "- $x_6 => x_6^{1/3}$"
   ]
  },
  {
   "cell_type": "markdown",
   "metadata": {},
   "source": [
    "Plot of feature 2 after log"
   ]
  },
  {
   "cell_type": "code",
   "execution_count": 10,
   "metadata": {},
   "outputs": [
    {
     "data": {
      "image/png": "[encoded data removed]",
      "text/plain": [
       "<Figure size 432x288 with 1 Axes>"
      ]
     },
     "metadata": {
      "needs_background": "light"
     },
     "output_type": "display_data"
    }
   ],
   "source": [
    "np.log(train_df[features[1]] + 1e-7).plot.hist()\n",
    "plt.title('Histogram of features: '+features[1])\n",
    "plt.xlabel('Feature')\n",
    "plt.show()"
   ]
  },
  {
   "cell_type": "code",
   "execution_count": 11,
   "metadata": {},
   "outputs": [],
   "source": [
    "train_df[features[0]] = train_df[features[0]]\n",
    "train_df[features[1]] = np.log(train_df[features[1]] + 1e-7)\n",
    "train_df[features[2]] = train_df[features[2]] ** (1/3)\n",
    "train_df[features[3]] = train_df[features[3]] ** (1/4)\n",
    "train_df[features[4]] = np.log(1 + train_df[features[4]])\n",
    "train_df[features[5]] = train_df[features[5]] ** (1/3)"
   ]
  },
  {
   "cell_type": "markdown",
   "metadata": {},
   "source": [
    "## Apply PCA to visualize outlier and inlier\n",
    "\n",
    "Principal component analysis (PCA).\n",
    "\n",
    "Linear dimensionality reduction using Singular Value Decomposition of the data to project it to a lower dimensional space. The input data is centered but not scaled for each feature before applying the SVD.\n",
    "\n",
    "It uses the LAPACK implementation of the full SVD or a randomized truncated SVD by the method of Halko et al. 2009, depending on the shape of the input data and the number of components to extract."
   ]
  },
  {
   "cell_type": "code",
   "execution_count": 12,
   "metadata": {},
   "outputs": [],
   "source": [
    "from sklearn.decomposition import PCA\n",
    "\n",
    "pca = PCA(n_components=2).fit(train_df[features])"
   ]
  },
  {
   "cell_type": "markdown",
   "metadata": {},
   "source": [
    "**explained_variance_** : **ndarray of shape (n_components,)** \n",
    "\n",
    "The amount of variance explained by each of the selected components. The variance estimation uses `n_samples` degrees of freedom.\n",
    "\n",
    "Equal to n_components largest eigenvalues of the covariance matrix of X."
   ]
  },
  {
   "cell_type": "code",
   "execution_count": 13,
   "metadata": {},
   "outputs": [
    {
     "data": {
      "text/plain": [
       "array([3.95285689, 0.04199122])"
      ]
     },
     "execution_count": 13,
     "metadata": {},
     "output_type": "execute_result"
    }
   ],
   "source": [
    "pca.explained_variance_"
   ]
  },
  {
   "cell_type": "code",
   "execution_count": 14,
   "metadata": {},
   "outputs": [
    {
     "data": {
      "text/plain": [
       "((3772, 2), (3772, 7))"
      ]
     },
     "execution_count": 14,
     "metadata": {},
     "output_type": "execute_result"
    }
   ],
   "source": [
    "train_pca = pca.transform(train_df[features])\n",
    "train_pca.shape, train_df.shape"
   ]
  },
  {
   "cell_type": "markdown",
   "metadata": {},
   "source": [
    "## Plot 100 sample per class"
   ]
  },
  {
   "cell_type": "code",
   "execution_count": 15,
   "metadata": {},
   "outputs": [
    {
     "data": {
      "text/html": [
       "<div>\n",
       "<style scoped>\n",
       "    .dataframe tbody tr th:only-of-type {\n",
       "        vertical-align: middle;\n",
       "    }\n",
       "\n",
       "    .dataframe tbody tr th {\n",
       "        vertical-align: top;\n",
       "    }\n",
       "\n",
       "    .dataframe thead th {\n",
       "        text-align: right;\n",
       "    }\n",
       "</style>\n",
       "<table border=\"1\" class=\"dataframe\">\n",
       "  <thead>\n",
       "    <tr style=\"text-align: right;\">\n",
       "      <th></th>\n",
       "      <th>TyphoidFeat1</th>\n",
       "      <th>TyphoidFeat2</th>\n",
       "      <th>TyphoidFeat3</th>\n",
       "      <th>TyphoidFeat4</th>\n",
       "      <th>TyphoidFeat5</th>\n",
       "      <th>TyphoidFeat6</th>\n",
       "      <th>label</th>\n",
       "    </tr>\n",
       "  </thead>\n",
       "  <tbody>\n",
       "    <tr>\n",
       "      <th>2150</th>\n",
       "      <td>0.795699</td>\n",
       "      <td>-4.370762</td>\n",
       "      <td>0.577500</td>\n",
       "      <td>0.779477</td>\n",
       "      <td>0.391280</td>\n",
       "      <td>0.597316</td>\n",
       "      <td>0.0</td>\n",
       "    </tr>\n",
       "    <tr>\n",
       "      <th>289</th>\n",
       "      <td>0.720430</td>\n",
       "      <td>-3.014778</td>\n",
       "      <td>0.287320</td>\n",
       "      <td>0.310924</td>\n",
       "      <td>0.251836</td>\n",
       "      <td>0.209388</td>\n",
       "      <td>1.0</td>\n",
       "    </tr>\n",
       "    <tr>\n",
       "      <th>727</th>\n",
       "      <td>0.473118</td>\n",
       "      <td>-6.378179</td>\n",
       "      <td>0.559900</td>\n",
       "      <td>0.659569</td>\n",
       "      <td>0.203228</td>\n",
       "      <td>0.584804</td>\n",
       "      <td>0.0</td>\n",
       "    </tr>\n",
       "    <tr>\n",
       "      <th>1142</th>\n",
       "      <td>0.344086</td>\n",
       "      <td>-1.197703</td>\n",
       "      <td>0.287320</td>\n",
       "      <td>0.363835</td>\n",
       "      <td>0.332440</td>\n",
       "      <td>0.227051</td>\n",
       "      <td>1.0</td>\n",
       "    </tr>\n",
       "    <tr>\n",
       "      <th>3308</th>\n",
       "      <td>0.720430</td>\n",
       "      <td>-6.010472</td>\n",
       "      <td>0.606377</td>\n",
       "      <td>0.657524</td>\n",
       "      <td>0.291197</td>\n",
       "      <td>0.524466</td>\n",
       "      <td>0.0</td>\n",
       "    </tr>\n",
       "    <tr>\n",
       "      <th>519</th>\n",
       "      <td>0.731183</td>\n",
       "      <td>-3.228352</td>\n",
       "      <td>0.414388</td>\n",
       "      <td>0.587532</td>\n",
       "      <td>0.273497</td>\n",
       "      <td>0.459030</td>\n",
       "      <td>1.0</td>\n",
       "    </tr>\n",
       "    <tr>\n",
       "      <th>2515</th>\n",
       "      <td>0.612903</td>\n",
       "      <td>-3.382502</td>\n",
       "      <td>0.577500</td>\n",
       "      <td>0.626650</td>\n",
       "      <td>0.349135</td>\n",
       "      <td>0.464159</td>\n",
       "      <td>1.0</td>\n",
       "    </tr>\n",
       "    <tr>\n",
       "      <th>2374</th>\n",
       "      <td>0.387097</td>\n",
       "      <td>-2.265543</td>\n",
       "      <td>0.432042</td>\n",
       "      <td>0.562997</td>\n",
       "      <td>0.335801</td>\n",
       "      <td>0.406585</td>\n",
       "      <td>1.0</td>\n",
       "    </tr>\n",
       "    <tr>\n",
       "      <th>1275</th>\n",
       "      <td>0.290323</td>\n",
       "      <td>-1.338403</td>\n",
       "      <td>0.432042</td>\n",
       "      <td>0.530895</td>\n",
       "      <td>0.287682</td>\n",
       "      <td>0.396416</td>\n",
       "      <td>1.0</td>\n",
       "    </tr>\n",
       "    <tr>\n",
       "      <th>2661</th>\n",
       "      <td>0.774194</td>\n",
       "      <td>-5.742218</td>\n",
       "      <td>0.695765</td>\n",
       "      <td>0.716818</td>\n",
       "      <td>0.397610</td>\n",
       "      <td>0.530360</td>\n",
       "      <td>0.0</td>\n",
       "    </tr>\n",
       "  </tbody>\n",
       "</table>\n",
       "</div>"
      ],
      "text/plain": [
       "      TyphoidFeat1  TyphoidFeat2  TyphoidFeat3  TyphoidFeat4  TyphoidFeat5  \\\n",
       "2150      0.795699     -4.370762      0.577500      0.779477      0.391280   \n",
       "289       0.720430     -3.014778      0.287320      0.310924      0.251836   \n",
       "727       0.473118     -6.378179      0.559900      0.659569      0.203228   \n",
       "1142      0.344086     -1.197703      0.287320      0.363835      0.332440   \n",
       "3308      0.720430     -6.010472      0.606377      0.657524      0.291197   \n",
       "519       0.731183     -3.228352      0.414388      0.587532      0.273497   \n",
       "2515      0.612903     -3.382502      0.577500      0.626650      0.349135   \n",
       "2374      0.387097     -2.265543      0.432042      0.562997      0.335801   \n",
       "1275      0.290323     -1.338403      0.432042      0.530895      0.287682   \n",
       "2661      0.774194     -5.742218      0.695765      0.716818      0.397610   \n",
       "\n",
       "      TyphoidFeat6  label  \n",
       "2150      0.597316    0.0  \n",
       "289       0.209388    1.0  \n",
       "727       0.584804    0.0  \n",
       "1142      0.227051    1.0  \n",
       "3308      0.524466    0.0  \n",
       "519       0.459030    1.0  \n",
       "2515      0.464159    1.0  \n",
       "2374      0.406585    1.0  \n",
       "1275      0.396416    1.0  \n",
       "2661      0.530360    0.0  "
      ]
     },
     "execution_count": 15,
     "metadata": {},
     "output_type": "execute_result"
    }
   ],
   "source": [
    "data = train_df.groupby(\"label\").sample(90)\n",
    "data.sample(10)"
   ]
  },
  {
   "cell_type": "code",
   "execution_count": 16,
   "metadata": {},
   "outputs": [],
   "source": [
    "from matplotlib import pyplot as plt\n",
    "import seaborn as sns"
   ]
  },
  {
   "cell_type": "markdown",
   "metadata": {},
   "source": [
    "For good visualization, we will use only a subset of the data"
   ]
  },
  {
   "cell_type": "code",
   "execution_count": 17,
   "metadata": {},
   "outputs": [
    {
     "data": {
      "image/png": "[encoded data removed]",
      "text/plain": [
       "<Figure size 432x288 with 1 Axes>"
      ]
     },
     "metadata": {
      "needs_background": "light"
     },
     "output_type": "display_data"
    }
   ],
   "source": [
    "sns.scatterplot(x=train_pca[data.index][:, 0], y=train_pca[data.index][:, 1], hue=data.label.values)\n",
    "plt.show()"
   ]
  },
  {
   "cell_type": "code",
   "execution_count": 18,
   "metadata": {},
   "outputs": [
    {
     "data": {
      "image/png": "[encoded data removed]",
      "text/plain": [
       "<Figure size 432x288 with 1 Axes>"
      ]
     },
     "metadata": {
      "needs_background": "light"
     },
     "output_type": "display_data"
    }
   ],
   "source": [
    "sns.scatterplot(x=train_pca[:, 0], y=train_pca[:, 1], hue=train_df.label.values)\n",
    "plt.show()"
   ]
  },
  {
   "cell_type": "markdown",
   "metadata": {},
   "source": [
    "Outlier are left aligned features in this visualization"
   ]
  },
  {
   "cell_type": "markdown",
   "metadata": {},
   "source": [
    "## Split dataset into training and testing"
   ]
  },
  {
   "cell_type": "code",
   "execution_count": 19,
   "metadata": {},
   "outputs": [],
   "source": [
    "from sklearn.model_selection import train_test_split"
   ]
  },
  {
   "cell_type": "code",
   "execution_count": 20,
   "metadata": {},
   "outputs": [
    {
     "data": {
      "text/html": [
       "<div>\n",
       "<style scoped>\n",
       "    .dataframe tbody tr th:only-of-type {\n",
       "        vertical-align: middle;\n",
       "    }\n",
       "\n",
       "    .dataframe tbody tr th {\n",
       "        vertical-align: top;\n",
       "    }\n",
       "\n",
       "    .dataframe thead th {\n",
       "        text-align: right;\n",
       "    }\n",
       "</style>\n",
       "<table border=\"1\" class=\"dataframe\">\n",
       "  <thead>\n",
       "    <tr style=\"text-align: right;\">\n",
       "      <th></th>\n",
       "      <th>TyphoidFeat1</th>\n",
       "      <th>TyphoidFeat2</th>\n",
       "      <th>TyphoidFeat3</th>\n",
       "      <th>TyphoidFeat4</th>\n",
       "      <th>TyphoidFeat5</th>\n",
       "      <th>TyphoidFeat6</th>\n",
       "      <th>label</th>\n",
       "    </tr>\n",
       "  </thead>\n",
       "  <tbody>\n",
       "    <tr>\n",
       "      <th>2615</th>\n",
       "      <td>0.225806</td>\n",
       "      <td>-4.550101</td>\n",
       "      <td>0.654125</td>\n",
       "      <td>0.729181</td>\n",
       "      <td>0.394450</td>\n",
       "      <td>0.545467</td>\n",
       "      <td>0.0</td>\n",
       "    </tr>\n",
       "    <tr>\n",
       "      <th>327</th>\n",
       "      <td>0.795699</td>\n",
       "      <td>-8.574932</td>\n",
       "      <td>0.559900</td>\n",
       "      <td>0.769417</td>\n",
       "      <td>0.255479</td>\n",
       "      <td>0.673071</td>\n",
       "      <td>0.0</td>\n",
       "    </tr>\n",
       "    <tr>\n",
       "      <th>1027</th>\n",
       "      <td>0.247312</td>\n",
       "      <td>-5.742218</td>\n",
       "      <td>0.606377</td>\n",
       "      <td>0.733659</td>\n",
       "      <td>0.294700</td>\n",
       "      <td>0.603381</td>\n",
       "      <td>0.0</td>\n",
       "    </tr>\n",
       "    <tr>\n",
       "      <th>1136</th>\n",
       "      <td>0.569892</td>\n",
       "      <td>-5.636272</td>\n",
       "      <td>0.527834</td>\n",
       "      <td>0.606731</td>\n",
       "      <td>0.195536</td>\n",
       "      <td>0.528410</td>\n",
       "      <td>0.0</td>\n",
       "    </tr>\n",
       "    <tr>\n",
       "      <th>2356</th>\n",
       "      <td>0.666667</td>\n",
       "      <td>-2.024381</td>\n",
       "      <td>0.441978</td>\n",
       "      <td>0.614429</td>\n",
       "      <td>0.384911</td>\n",
       "      <td>0.437267</td>\n",
       "      <td>1.0</td>\n",
       "    </tr>\n",
       "    <tr>\n",
       "      <th>2937</th>\n",
       "      <td>0.290323</td>\n",
       "      <td>-1.638148</td>\n",
       "      <td>0.577500</td>\n",
       "      <td>0.619404</td>\n",
       "      <td>0.375280</td>\n",
       "      <td>0.445678</td>\n",
       "      <td>1.0</td>\n",
       "    </tr>\n",
       "    <tr>\n",
       "      <th>1040</th>\n",
       "      <td>0.720430</td>\n",
       "      <td>-2.511676</td>\n",
       "      <td>0.287320</td>\n",
       "      <td>0.409199</td>\n",
       "      <td>0.332440</td>\n",
       "      <td>0.265916</td>\n",
       "      <td>1.0</td>\n",
       "    </tr>\n",
       "    <tr>\n",
       "      <th>1269</th>\n",
       "      <td>0.462366</td>\n",
       "      <td>-2.466213</td>\n",
       "      <td>0.504078</td>\n",
       "      <td>0.542237</td>\n",
       "      <td>0.375280</td>\n",
       "      <td>0.370405</td>\n",
       "      <td>1.0</td>\n",
       "    </tr>\n",
       "  </tbody>\n",
       "</table>\n",
       "</div>"
      ],
      "text/plain": [
       "      TyphoidFeat1  TyphoidFeat2  TyphoidFeat3  TyphoidFeat4  TyphoidFeat5  \\\n",
       "2615      0.225806     -4.550101      0.654125      0.729181      0.394450   \n",
       "327       0.795699     -8.574932      0.559900      0.769417      0.255479   \n",
       "1027      0.247312     -5.742218      0.606377      0.733659      0.294700   \n",
       "1136      0.569892     -5.636272      0.527834      0.606731      0.195536   \n",
       "2356      0.666667     -2.024381      0.441978      0.614429      0.384911   \n",
       "2937      0.290323     -1.638148      0.577500      0.619404      0.375280   \n",
       "1040      0.720430     -2.511676      0.287320      0.409199      0.332440   \n",
       "1269      0.462366     -2.466213      0.504078      0.542237      0.375280   \n",
       "\n",
       "      TyphoidFeat6  label  \n",
       "2615      0.545467    0.0  \n",
       "327       0.673071    0.0  \n",
       "1027      0.603381    0.0  \n",
       "1136      0.528410    0.0  \n",
       "2356      0.437267    1.0  \n",
       "2937      0.445678    1.0  \n",
       "1040      0.265916    1.0  \n",
       "1269      0.370405    1.0  "
      ]
     },
     "execution_count": 20,
     "metadata": {},
     "output_type": "execute_result"
    }
   ],
   "source": [
    "train_df.groupby(\"label\").sample(4)"
   ]
  },
  {
   "cell_type": "code",
   "execution_count": 21,
   "metadata": {},
   "outputs": [
    {
     "data": {
      "text/html": [
       "<div>\n",
       "<style scoped>\n",
       "    .dataframe tbody tr th:only-of-type {\n",
       "        vertical-align: middle;\n",
       "    }\n",
       "\n",
       "    .dataframe tbody tr th {\n",
       "        vertical-align: top;\n",
       "    }\n",
       "\n",
       "    .dataframe thead th {\n",
       "        text-align: right;\n",
       "    }\n",
       "</style>\n",
       "<table border=\"1\" class=\"dataframe\">\n",
       "  <thead>\n",
       "    <tr style=\"text-align: right;\">\n",
       "      <th></th>\n",
       "      <th>TyphoidFeat1</th>\n",
       "      <th>TyphoidFeat2</th>\n",
       "      <th>TyphoidFeat3</th>\n",
       "      <th>TyphoidFeat4</th>\n",
       "      <th>TyphoidFeat5</th>\n",
       "      <th>TyphoidFeat6</th>\n",
       "      <th>label</th>\n",
       "    </tr>\n",
       "  </thead>\n",
       "  <tbody>\n",
       "    <tr>\n",
       "      <th>count</th>\n",
       "      <td>3772.000000</td>\n",
       "      <td>3.772000e+03</td>\n",
       "      <td>3772.000000</td>\n",
       "      <td>3772.000000</td>\n",
       "      <td>3772.000000</td>\n",
       "      <td>3772.000000</td>\n",
       "      <td>3772.000000</td>\n",
       "    </tr>\n",
       "    <tr>\n",
       "      <th>mean</th>\n",
       "      <td>0.543121</td>\n",
       "      <td>-6.259120e+00</td>\n",
       "      <td>0.562237</td>\n",
       "      <td>0.698270</td>\n",
       "      <td>0.317930</td>\n",
       "      <td>0.555497</td>\n",
       "      <td>0.024655</td>\n",
       "    </tr>\n",
       "    <tr>\n",
       "      <th>std</th>\n",
       "      <td>0.203790</td>\n",
       "      <td>1.987708e+00</td>\n",
       "      <td>0.074936</td>\n",
       "      <td>0.062767</td>\n",
       "      <td>0.061670</td>\n",
       "      <td>0.060938</td>\n",
       "      <td>0.155093</td>\n",
       "    </tr>\n",
       "    <tr>\n",
       "      <th>min</th>\n",
       "      <td>0.000000</td>\n",
       "      <td>-1.611810e+01</td>\n",
       "      <td>0.000000</td>\n",
       "      <td>0.000000</td>\n",
       "      <td>0.000000</td>\n",
       "      <td>0.000000</td>\n",
       "      <td>0.000000</td>\n",
       "    </tr>\n",
       "    <tr>\n",
       "      <th>25%</th>\n",
       "      <td>0.376344</td>\n",
       "      <td>-6.783614e+00</td>\n",
       "      <td>0.538949</td>\n",
       "      <td>0.671458</td>\n",
       "      <td>0.284155</td>\n",
       "      <td>0.530360</td>\n",
       "      <td>0.000000</td>\n",
       "    </tr>\n",
       "    <tr>\n",
       "      <th>50%</th>\n",
       "      <td>0.569892</td>\n",
       "      <td>-5.802840e+00</td>\n",
       "      <td>0.575597</td>\n",
       "      <td>0.701251</td>\n",
       "      <td>0.318880</td>\n",
       "      <td>0.558031</td>\n",
       "      <td>0.000000</td>\n",
       "    </tr>\n",
       "    <tr>\n",
       "      <th>75%</th>\n",
       "      <td>0.709677</td>\n",
       "      <td>-5.397386e+00</td>\n",
       "      <td>0.597651</td>\n",
       "      <td>0.729181</td>\n",
       "      <td>0.345818</td>\n",
       "      <td>0.581590</td>\n",
       "      <td>0.000000</td>\n",
       "    </tr>\n",
       "    <tr>\n",
       "      <th>max</th>\n",
       "      <td>1.000000</td>\n",
       "      <td>1.000000e-07</td>\n",
       "      <td>1.000000</td>\n",
       "      <td>1.000000</td>\n",
       "      <td>0.693147</td>\n",
       "      <td>1.000000</td>\n",
       "      <td>1.000000</td>\n",
       "    </tr>\n",
       "  </tbody>\n",
       "</table>\n",
       "</div>"
      ],
      "text/plain": [
       "       TyphoidFeat1  TyphoidFeat2  TyphoidFeat3  TyphoidFeat4  TyphoidFeat5  \\\n",
       "count   3772.000000  3.772000e+03   3772.000000   3772.000000   3772.000000   \n",
       "mean       0.543121 -6.259120e+00      0.562237      0.698270      0.317930   \n",
       "std        0.203790  1.987708e+00      0.074936      0.062767      0.061670   \n",
       "min        0.000000 -1.611810e+01      0.000000      0.000000      0.000000   \n",
       "25%        0.376344 -6.783614e+00      0.538949      0.671458      0.284155   \n",
       "50%        0.569892 -5.802840e+00      0.575597      0.701251      0.318880   \n",
       "75%        0.709677 -5.397386e+00      0.597651      0.729181      0.345818   \n",
       "max        1.000000  1.000000e-07      1.000000      1.000000      0.693147   \n",
       "\n",
       "       TyphoidFeat6        label  \n",
       "count   3772.000000  3772.000000  \n",
       "mean       0.555497     0.024655  \n",
       "std        0.060938     0.155093  \n",
       "min        0.000000     0.000000  \n",
       "25%        0.530360     0.000000  \n",
       "50%        0.558031     0.000000  \n",
       "75%        0.581590     0.000000  \n",
       "max        1.000000     1.000000  "
      ]
     },
     "execution_count": 21,
     "metadata": {},
     "output_type": "execute_result"
    }
   ],
   "source": [
    "train_df.describe()"
   ]
  },
  {
   "cell_type": "code",
   "execution_count": 22,
   "metadata": {},
   "outputs": [
    {
     "data": {
      "text/plain": [
       "((2829, 6), (943, 6))"
      ]
     },
     "execution_count": 22,
     "metadata": {},
     "output_type": "execute_result"
    }
   ],
   "source": [
    "X_train, X_test, y_train, y_test = train_test_split(train_df[features], train_df[\"label\"], stratify=train_df[\"label\"], random_state=0, test_size=0.25)\n",
    "\n",
    "X_train.shape, X_test.shape"
   ]
  },
  {
   "cell_type": "code",
   "execution_count": 23,
   "metadata": {},
   "outputs": [
    {
     "data": {
      "text/plain": [
       "0.0    2759\n",
       "1.0      70\n",
       "Name: label, dtype: int64"
      ]
     },
     "execution_count": 23,
     "metadata": {},
     "output_type": "execute_result"
    }
   ],
   "source": [
    "y_train.value_counts()"
   ]
  },
  {
   "cell_type": "code",
   "execution_count": 24,
   "metadata": {},
   "outputs": [
    {
     "data": {
      "text/plain": [
       "0.0    920\n",
       "1.0     23\n",
       "Name: label, dtype: int64"
      ]
     },
     "execution_count": 24,
     "metadata": {},
     "output_type": "execute_result"
    }
   ],
   "source": [
    "y_test.value_counts()"
   ]
  },
  {
   "cell_type": "markdown",
   "metadata": {},
   "source": [
    "## Density estimation method\n",
    "\n",
    "- Dentity on the all features\n",
    "- Dentity on the selected features\n",
    "- Dentity on PCA features"
   ]
  },
  {
   "cell_type": "code",
   "execution_count": 25,
   "metadata": {},
   "outputs": [],
   "source": [
    "from typing import Tuple\n",
    "\n",
    "\n",
    "def compute_mu_std(X_train: np.ndarray) -> Tuple[np.ndarray, np.ndarray]:\n",
    "    mu = np.mean(X_train, axis=0)\n",
    "    var = np.cov(X_train, rowvar=0)\n",
    "    return mu, var\n",
    "\n",
    "def multivariate_gaussian(X: np.ndarray, mu: np.ndarray, var: np.ndarray):\n",
    "    \"\"\"\n",
    "    Computes the probability \n",
    "    density function of the examples X under the multivariate gaussian \n",
    "    distribution with parameters mu and var. If var is a matrix, it is\n",
    "    treated as the covariance matrix. If var is a vector, it is treated\n",
    "    as the var values of the variances in each dimension (a diagonal\n",
    "    covariance matrix\n",
    "    \"\"\"\n",
    "    \n",
    "    k = len(mu)\n",
    "    \n",
    "    if var.ndim == 1:\n",
    "        var = np.diag(var)\n",
    "        \n",
    "    X = X - mu\n",
    "    p = (2* np.pi)**(-k/2) * np.linalg.det(var)**(-0.5) * \\\n",
    "        np.exp(-0.5 * np.sum(np.matmul(X, np.linalg.pinv(var)) * X, axis=1))\n",
    "    \n",
    "    return p"
   ]
  },
  {
   "cell_type": "code",
   "execution_count": 26,
   "metadata": {},
   "outputs": [
    {
     "data": {
      "text/plain": [
       "((6,), (6, 6))"
      ]
     },
     "execution_count": 26,
     "metadata": {},
     "output_type": "execute_result"
    }
   ],
   "source": [
    "mu, var = compute_mu_std(X_train.values)\n",
    "\n",
    "mu.shape, var.shape"
   ]
  },
  {
   "cell_type": "code",
   "execution_count": 27,
   "metadata": {},
   "outputs": [
    {
     "data": {
      "text/plain": [
       "(943,)"
      ]
     },
     "execution_count": 27,
     "metadata": {},
     "output_type": "execute_result"
    }
   ],
   "source": [
    "density = multivariate_gaussian(X_test.values, mu, var)\n",
    "density.shape"
   ]
  },
  {
   "cell_type": "code",
   "execution_count": 28,
   "metadata": {},
   "outputs": [
    {
     "data": {
      "text/plain": [
       "(2829,)"
      ]
     },
     "execution_count": 28,
     "metadata": {},
     "output_type": "execute_result"
    }
   ],
   "source": [
    "train_density = multivariate_gaussian(X_train.values, mu, var)\n",
    "train_density.shape"
   ]
  },
  {
   "cell_type": "markdown",
   "metadata": {},
   "source": [
    "## Threshold selection criteria"
   ]
  },
  {
   "cell_type": "code",
   "execution_count": 29,
   "metadata": {},
   "outputs": [],
   "source": [
    "from sklearn.metrics import f1_score\n",
    "\n",
    "def compute_score(y_val, y_pred):\n",
    "    \"\"\"\n",
    "        tp = np.mean(preds & (y_val==1))\n",
    "        fp = np.mean(preds & (y_val==0))\n",
    "        tn = np.mean(~preds & (y_val==0))\n",
    "        fn = np.mean(~preds & (y_val==1))\n",
    "        \n",
    "        prec = tp / (tp + fp + 1e-10)\n",
    "        rec = tp / (tp + fn + 1e-10)\n",
    "        F1 = 2 * prec * rec / (prec + rec + 1e-10)\n",
    "    \"\"\"\n",
    "    return f1_score(y_val, y_pred)"
   ]
  },
  {
   "cell_type": "code",
   "execution_count": 30,
   "metadata": {},
   "outputs": [],
   "source": [
    "def select_threshold(y_val, p_val): \n",
    "    \"\"\"\n",
    "    Finds the best threshold to use for selecting outliers \n",
    "    based on the results from a validation set (p_val) \n",
    "    and the ground truth (y_val)\n",
    "    \n",
    "    Args:\n",
    "        y_val (ndarray): Ground truth on validation set\n",
    "        p_val (ndarray): Results on validation set\n",
    "        \n",
    "    Returns:\n",
    "        epsilon (float): Threshold chosen \n",
    "        F1 (float):      F1 score by choosing epsilon as threshold\n",
    "    \"\"\" \n",
    "\n",
    "    best_epsilon = 0\n",
    "    best_F1 = 0\n",
    "    F1 = 0\n",
    "    \n",
    "    step_size = (max(p_val) - min(p_val)) / 1000\n",
    "\n",
    "    accs = 0\n",
    "    \n",
    "    for epsilon in np.arange(min(p_val), max(p_val), step_size):\n",
    "        preds = p_val < epsilon\n",
    "        \n",
    "        F1 = compute_score(y_val, preds)\n",
    "\n",
    "        acc = np.mean(preds == y_val)\n",
    "        \n",
    "        if F1 > best_F1:\n",
    "            best_F1 = F1\n",
    "            best_epsilon = epsilon\n",
    "            accs = acc\n",
    "        \n",
    "    return best_epsilon, best_F1, accs"
   ]
  },
  {
   "cell_type": "code",
   "execution_count": 31,
   "metadata": {},
   "outputs": [
    {
     "name": "stdout",
     "output_type": "stream",
     "text": [
      "The optimal  threshold is: 20.208023146990886\n",
      "The optimal f1_score is: 0.2702702702702703\n",
      "The accuracy is: 0.9141039236479321\n"
     ]
    }
   ],
   "source": [
    "epsilon, score, accuracy = select_threshold(y_train.values, train_density)\n",
    "\n",
    "print(\"The optimal  threshold is:\", epsilon)\n",
    "print(\"The optimal f1_score is:\", score)\n",
    "print(\"The accuracy is:\", accuracy)"
   ]
  },
  {
   "cell_type": "markdown",
   "metadata": {},
   "source": [
    "We will use the computed value of epsilon to determine anomaly in test set"
   ]
  },
  {
   "cell_type": "code",
   "execution_count": 32,
   "metadata": {},
   "outputs": [
    {
     "data": {
      "text/plain": [
       "0.35185185185185186"
      ]
     },
     "execution_count": 32,
     "metadata": {},
     "output_type": "execute_result"
    }
   ],
   "source": [
    "test_score = compute_score(y_test.values, density < epsilon)\n",
    "\n",
    "test_score"
   ]
  },
  {
   "cell_type": "markdown",
   "metadata": {},
   "source": [
    "## Select features before estimation"
   ]
  },
  {
   "cell_type": "code",
   "execution_count": 33,
   "metadata": {},
   "outputs": [
    {
     "data": {
      "text/plain": [
       "780     0.0\n",
       "519     1.0\n",
       "1047    0.0\n",
       "2693    0.0\n",
       "323     0.0\n",
       "Name: label, dtype: float64"
      ]
     },
     "execution_count": 33,
     "metadata": {},
     "output_type": "execute_result"
    }
   ],
   "source": [
    "y_train.head()"
   ]
  },
  {
   "cell_type": "code",
   "execution_count": 34,
   "metadata": {},
   "outputs": [
    {
     "data": {
      "text/html": [
       "<div>\n",
       "<style scoped>\n",
       "    .dataframe tbody tr th:only-of-type {\n",
       "        vertical-align: middle;\n",
       "    }\n",
       "\n",
       "    .dataframe tbody tr th {\n",
       "        vertical-align: top;\n",
       "    }\n",
       "\n",
       "    .dataframe thead th {\n",
       "        text-align: right;\n",
       "    }\n",
       "</style>\n",
       "<table border=\"1\" class=\"dataframe\">\n",
       "  <thead>\n",
       "    <tr style=\"text-align: right;\">\n",
       "      <th></th>\n",
       "      <th>TyphoidFeat1</th>\n",
       "      <th>TyphoidFeat2</th>\n",
       "      <th>TyphoidFeat3</th>\n",
       "      <th>TyphoidFeat4</th>\n",
       "      <th>TyphoidFeat5</th>\n",
       "      <th>TyphoidFeat6</th>\n",
       "    </tr>\n",
       "  </thead>\n",
       "  <tbody>\n",
       "    <tr>\n",
       "      <th>780</th>\n",
       "      <td>0.451613</td>\n",
       "      <td>-6.378179</td>\n",
       "      <td>0.631154</td>\n",
       "      <td>0.707107</td>\n",
       "      <td>0.355736</td>\n",
       "      <td>0.541769</td>\n",
       "    </tr>\n",
       "    <tr>\n",
       "      <th>519</th>\n",
       "      <td>0.731183</td>\n",
       "      <td>-3.228352</td>\n",
       "      <td>0.414388</td>\n",
       "      <td>0.587532</td>\n",
       "      <td>0.273497</td>\n",
       "      <td>0.459030</td>\n",
       "    </tr>\n",
       "    <tr>\n",
       "      <th>1047</th>\n",
       "      <td>0.301075</td>\n",
       "      <td>-7.658959</td>\n",
       "      <td>0.463571</td>\n",
       "      <td>0.566242</td>\n",
       "      <td>0.318880</td>\n",
       "      <td>0.550922</td>\n",
       "    </tr>\n",
       "    <tr>\n",
       "      <th>2693</th>\n",
       "      <td>0.774194</td>\n",
       "      <td>-4.861877</td>\n",
       "      <td>0.588662</td>\n",
       "      <td>0.760279</td>\n",
       "      <td>0.431721</td>\n",
       "      <td>0.558031</td>\n",
       "    </tr>\n",
       "    <tr>\n",
       "      <th>323</th>\n",
       "      <td>0.333333</td>\n",
       "      <td>-5.636272</td>\n",
       "      <td>0.575597</td>\n",
       "      <td>0.710681</td>\n",
       "      <td>0.318880</td>\n",
       "      <td>0.565084</td>\n",
       "    </tr>\n",
       "  </tbody>\n",
       "</table>\n",
       "</div>"
      ],
      "text/plain": [
       "      TyphoidFeat1  TyphoidFeat2  TyphoidFeat3  TyphoidFeat4  TyphoidFeat5  \\\n",
       "780       0.451613     -6.378179      0.631154      0.707107      0.355736   \n",
       "519       0.731183     -3.228352      0.414388      0.587532      0.273497   \n",
       "1047      0.301075     -7.658959      0.463571      0.566242      0.318880   \n",
       "2693      0.774194     -4.861877      0.588662      0.760279      0.431721   \n",
       "323       0.333333     -5.636272      0.575597      0.710681      0.318880   \n",
       "\n",
       "      TyphoidFeat6  \n",
       "780       0.541769  \n",
       "519       0.459030  \n",
       "1047      0.550922  \n",
       "2693      0.558031  \n",
       "323       0.565084  "
      ]
     },
     "execution_count": 34,
     "metadata": {},
     "output_type": "execute_result"
    }
   ],
   "source": [
    "X_train.head()"
   ]
  },
  {
   "cell_type": "code",
   "execution_count": 35,
   "metadata": {},
   "outputs": [
    {
     "data": {
      "text/html": [
       "<div>\n",
       "<style scoped>\n",
       "    .dataframe tbody tr th:only-of-type {\n",
       "        vertical-align: middle;\n",
       "    }\n",
       "\n",
       "    .dataframe tbody tr th {\n",
       "        vertical-align: top;\n",
       "    }\n",
       "\n",
       "    .dataframe thead th {\n",
       "        text-align: right;\n",
       "    }\n",
       "</style>\n",
       "<table border=\"1\" class=\"dataframe\">\n",
       "  <thead>\n",
       "    <tr style=\"text-align: right;\">\n",
       "      <th></th>\n",
       "      <th>TyphoidFeat1</th>\n",
       "      <th>TyphoidFeat2</th>\n",
       "      <th>TyphoidFeat3</th>\n",
       "      <th>TyphoidFeat4</th>\n",
       "      <th>TyphoidFeat5</th>\n",
       "      <th>TyphoidFeat6</th>\n",
       "      <th>Label</th>\n",
       "    </tr>\n",
       "  </thead>\n",
       "  <tbody>\n",
       "    <tr>\n",
       "      <th>count</th>\n",
       "      <td>2829.000000</td>\n",
       "      <td>2.829000e+03</td>\n",
       "      <td>2829.000000</td>\n",
       "      <td>2829.000000</td>\n",
       "      <td>2829.000000</td>\n",
       "      <td>2829.000000</td>\n",
       "      <td>2829.000000</td>\n",
       "    </tr>\n",
       "    <tr>\n",
       "      <th>mean</th>\n",
       "      <td>0.541935</td>\n",
       "      <td>-6.263105e+00</td>\n",
       "      <td>0.563220</td>\n",
       "      <td>0.698927</td>\n",
       "      <td>0.318790</td>\n",
       "      <td>0.555694</td>\n",
       "      <td>0.024744</td>\n",
       "    </tr>\n",
       "    <tr>\n",
       "      <th>std</th>\n",
       "      <td>0.205771</td>\n",
       "      <td>2.003897e+00</td>\n",
       "      <td>0.075243</td>\n",
       "      <td>0.061935</td>\n",
       "      <td>0.061791</td>\n",
       "      <td>0.060609</td>\n",
       "      <td>0.155371</td>\n",
       "    </tr>\n",
       "    <tr>\n",
       "      <th>min</th>\n",
       "      <td>0.000000</td>\n",
       "      <td>-1.611810e+01</td>\n",
       "      <td>0.000000</td>\n",
       "      <td>0.000000</td>\n",
       "      <td>0.000000</td>\n",
       "      <td>0.000000</td>\n",
       "      <td>0.000000</td>\n",
       "    </tr>\n",
       "    <tr>\n",
       "      <th>25%</th>\n",
       "      <td>0.365591</td>\n",
       "      <td>-6.783614e+00</td>\n",
       "      <td>0.538949</td>\n",
       "      <td>0.671458</td>\n",
       "      <td>0.284155</td>\n",
       "      <td>0.530360</td>\n",
       "      <td>0.000000</td>\n",
       "    </tr>\n",
       "    <tr>\n",
       "      <th>50%</th>\n",
       "      <td>0.569892</td>\n",
       "      <td>-5.802840e+00</td>\n",
       "      <td>0.575597</td>\n",
       "      <td>0.702097</td>\n",
       "      <td>0.318880</td>\n",
       "      <td>0.558031</td>\n",
       "      <td>0.000000</td>\n",
       "    </tr>\n",
       "    <tr>\n",
       "      <th>75%</th>\n",
       "      <td>0.709677</td>\n",
       "      <td>-5.397386e+00</td>\n",
       "      <td>0.597651</td>\n",
       "      <td>0.729181</td>\n",
       "      <td>0.345818</td>\n",
       "      <td>0.581590</td>\n",
       "      <td>0.000000</td>\n",
       "    </tr>\n",
       "    <tr>\n",
       "      <th>max</th>\n",
       "      <td>1.000000</td>\n",
       "      <td>1.000000e-07</td>\n",
       "      <td>1.000000</td>\n",
       "      <td>1.000000</td>\n",
       "      <td>0.693147</td>\n",
       "      <td>1.000000</td>\n",
       "      <td>1.000000</td>\n",
       "    </tr>\n",
       "  </tbody>\n",
       "</table>\n",
       "</div>"
      ],
      "text/plain": [
       "       TyphoidFeat1  TyphoidFeat2  TyphoidFeat3  TyphoidFeat4  TyphoidFeat5  \\\n",
       "count   2829.000000  2.829000e+03   2829.000000   2829.000000   2829.000000   \n",
       "mean       0.541935 -6.263105e+00      0.563220      0.698927      0.318790   \n",
       "std        0.205771  2.003897e+00      0.075243      0.061935      0.061791   \n",
       "min        0.000000 -1.611810e+01      0.000000      0.000000      0.000000   \n",
       "25%        0.365591 -6.783614e+00      0.538949      0.671458      0.284155   \n",
       "50%        0.569892 -5.802840e+00      0.575597      0.702097      0.318880   \n",
       "75%        0.709677 -5.397386e+00      0.597651      0.729181      0.345818   \n",
       "max        1.000000  1.000000e-07      1.000000      1.000000      0.693147   \n",
       "\n",
       "       TyphoidFeat6        Label  \n",
       "count   2829.000000  2829.000000  \n",
       "mean       0.555694     0.024744  \n",
       "std        0.060609     0.155371  \n",
       "min        0.000000     0.000000  \n",
       "25%        0.530360     0.000000  \n",
       "50%        0.558031     0.000000  \n",
       "75%        0.581590     0.000000  \n",
       "max        1.000000     1.000000  "
      ]
     },
     "execution_count": 35,
     "metadata": {},
     "output_type": "execute_result"
    }
   ],
   "source": [
    "data = X_train.copy()\n",
    "data[\"Label\"] = y_train\n",
    "\n",
    "data.describe()"
   ]
  },
  {
   "cell_type": "code",
   "execution_count": 36,
   "metadata": {},
   "outputs": [
    {
     "data": {
      "text/html": [
       "<style type=\"text/css\">\n",
       "#T_d9a0d_row0_col0, #T_d9a0d_row1_col1, #T_d9a0d_row2_col2, #T_d9a0d_row3_col3, #T_d9a0d_row4_col4, #T_d9a0d_row5_col5, #T_d9a0d_row6_col6 {\n",
       "  background-color: #08306b;\n",
       "  color: #f1f1f1;\n",
       "}\n",
       "#T_d9a0d_row0_col1 {\n",
       "  background-color: #f4f9fe;\n",
       "  color: #000000;\n",
       "}\n",
       "#T_d9a0d_row0_col2, #T_d9a0d_row3_col0 {\n",
       "  background-color: #f6faff;\n",
       "  color: #000000;\n",
       "}\n",
       "#T_d9a0d_row0_col3, #T_d9a0d_row0_col5, #T_d9a0d_row0_col6, #T_d9a0d_row1_col2, #T_d9a0d_row1_col4, #T_d9a0d_row4_col1, #T_d9a0d_row6_col0, #T_d9a0d_row6_col4 {\n",
       "  background-color: #f7fbff;\n",
       "  color: #000000;\n",
       "}\n",
       "#T_d9a0d_row0_col4 {\n",
       "  background-color: #dce9f6;\n",
       "  color: #000000;\n",
       "}\n",
       "#T_d9a0d_row1_col0 {\n",
       "  background-color: #edf4fc;\n",
       "  color: #000000;\n",
       "}\n",
       "#T_d9a0d_row1_col3 {\n",
       "  background-color: #97c6df;\n",
       "  color: #000000;\n",
       "}\n",
       "#T_d9a0d_row1_col5 {\n",
       "  background-color: #91c3de;\n",
       "  color: #000000;\n",
       "}\n",
       "#T_d9a0d_row1_col6 {\n",
       "  background-color: #b2d2e8;\n",
       "  color: #000000;\n",
       "}\n",
       "#T_d9a0d_row2_col0 {\n",
       "  background-color: #c6dbef;\n",
       "  color: #000000;\n",
       "}\n",
       "#T_d9a0d_row2_col1 {\n",
       "  background-color: #cddff1;\n",
       "  color: #000000;\n",
       "}\n",
       "#T_d9a0d_row2_col3 {\n",
       "  background-color: #6caed6;\n",
       "  color: #f1f1f1;\n",
       "}\n",
       "#T_d9a0d_row2_col4 {\n",
       "  background-color: #a4cce3;\n",
       "  color: #000000;\n",
       "}\n",
       "#T_d9a0d_row2_col5 {\n",
       "  background-color: #c4daee;\n",
       "  color: #000000;\n",
       "}\n",
       "#T_d9a0d_row2_col6 {\n",
       "  background-color: #bed8ec;\n",
       "  color: #000000;\n",
       "}\n",
       "#T_d9a0d_row3_col1 {\n",
       "  background-color: #9dcae1;\n",
       "  color: #000000;\n",
       "}\n",
       "#T_d9a0d_row3_col2 {\n",
       "  background-color: #a9cfe5;\n",
       "  color: #000000;\n",
       "}\n",
       "#T_d9a0d_row3_col4 {\n",
       "  background-color: #b0d2e7;\n",
       "  color: #000000;\n",
       "}\n",
       "#T_d9a0d_row3_col5 {\n",
       "  background-color: #125da6;\n",
       "  color: #f1f1f1;\n",
       "}\n",
       "#T_d9a0d_row3_col6 {\n",
       "  background-color: #65aad4;\n",
       "  color: #f1f1f1;\n",
       "}\n",
       "#T_d9a0d_row4_col0 {\n",
       "  background-color: #d6e6f4;\n",
       "  color: #000000;\n",
       "}\n",
       "#T_d9a0d_row4_col2 {\n",
       "  background-color: #d3e4f3;\n",
       "  color: #000000;\n",
       "}\n",
       "#T_d9a0d_row4_col3 {\n",
       "  background-color: #aacfe5;\n",
       "  color: #000000;\n",
       "}\n",
       "#T_d9a0d_row4_col5 {\n",
       "  background-color: #deebf7;\n",
       "  color: #000000;\n",
       "}\n",
       "#T_d9a0d_row4_col6 {\n",
       "  background-color: #f0f6fd;\n",
       "  color: #000000;\n",
       "}\n",
       "#T_d9a0d_row5_col0 {\n",
       "  background-color: #eaf2fb;\n",
       "  color: #000000;\n",
       "}\n",
       "#T_d9a0d_row5_col1 {\n",
       "  background-color: #89bedc;\n",
       "  color: #000000;\n",
       "}\n",
       "#T_d9a0d_row5_col2 {\n",
       "  background-color: #e7f1fa;\n",
       "  color: #000000;\n",
       "}\n",
       "#T_d9a0d_row5_col3 {\n",
       "  background-color: #0f5aa3;\n",
       "  color: #f1f1f1;\n",
       "}\n",
       "#T_d9a0d_row5_col4 {\n",
       "  background-color: #d8e7f5;\n",
       "  color: #000000;\n",
       "}\n",
       "#T_d9a0d_row5_col6 {\n",
       "  background-color: #60a7d2;\n",
       "  color: #f1f1f1;\n",
       "}\n",
       "#T_d9a0d_row6_col1 {\n",
       "  background-color: #b9d6ea;\n",
       "  color: #000000;\n",
       "}\n",
       "#T_d9a0d_row6_col2 {\n",
       "  background-color: #eff6fc;\n",
       "  color: #000000;\n",
       "}\n",
       "#T_d9a0d_row6_col3 {\n",
       "  background-color: #66abd4;\n",
       "  color: #f1f1f1;\n",
       "}\n",
       "#T_d9a0d_row6_col5 {\n",
       "  background-color: #6aaed6;\n",
       "  color: #f1f1f1;\n",
       "}\n",
       "</style>\n",
       "<table id=\"T_d9a0d\">\n",
       "  <thead>\n",
       "    <tr>\n",
       "      <th class=\"blank level0\" >&nbsp;</th>\n",
       "      <th id=\"T_d9a0d_level0_col0\" class=\"col_heading level0 col0\" >TyphoidFeat1</th>\n",
       "      <th id=\"T_d9a0d_level0_col1\" class=\"col_heading level0 col1\" >TyphoidFeat2</th>\n",
       "      <th id=\"T_d9a0d_level0_col2\" class=\"col_heading level0 col2\" >TyphoidFeat3</th>\n",
       "      <th id=\"T_d9a0d_level0_col3\" class=\"col_heading level0 col3\" >TyphoidFeat4</th>\n",
       "      <th id=\"T_d9a0d_level0_col4\" class=\"col_heading level0 col4\" >TyphoidFeat5</th>\n",
       "      <th id=\"T_d9a0d_level0_col5\" class=\"col_heading level0 col5\" >TyphoidFeat6</th>\n",
       "      <th id=\"T_d9a0d_level0_col6\" class=\"col_heading level0 col6\" >Label</th>\n",
       "    </tr>\n",
       "  </thead>\n",
       "  <tbody>\n",
       "    <tr>\n",
       "      <th id=\"T_d9a0d_level0_row0\" class=\"row_heading level0 row0\" >TyphoidFeat1</th>\n",
       "      <td id=\"T_d9a0d_row0_col0\" class=\"data row0 col0\" >1.000000</td>\n",
       "      <td id=\"T_d9a0d_row0_col1\" class=\"data row0 col1\" >0.060192</td>\n",
       "      <td id=\"T_d9a0d_row0_col2\" class=\"data row0 col2\" >0.257267</td>\n",
       "      <td id=\"T_d9a0d_row0_col3\" class=\"data row0 col3\" >0.015998</td>\n",
       "      <td id=\"T_d9a0d_row0_col4\" class=\"data row0 col4\" >0.173923</td>\n",
       "      <td id=\"T_d9a0d_row0_col5\" class=\"data row0 col5\" >0.075931</td>\n",
       "      <td id=\"T_d9a0d_row0_col6\" class=\"data row0 col6\" >0.009633</td>\n",
       "    </tr>\n",
       "    <tr>\n",
       "      <th id=\"T_d9a0d_level0_row1\" class=\"row_heading level0 row1\" >TyphoidFeat2</th>\n",
       "      <td id=\"T_d9a0d_row1_col0\" class=\"data row1 col0\" >0.060192</td>\n",
       "      <td id=\"T_d9a0d_row1_col1\" class=\"data row1 col1\" >1.000000</td>\n",
       "      <td id=\"T_d9a0d_row1_col2\" class=\"data row1 col2\" >0.251647</td>\n",
       "      <td id=\"T_d9a0d_row1_col3\" class=\"data row1 col3\" >0.403963</td>\n",
       "      <td id=\"T_d9a0d_row1_col4\" class=\"data row1 col4\" >0.042408</td>\n",
       "      <td id=\"T_d9a0d_row1_col5\" class=\"data row1 col5\" >0.452567</td>\n",
       "      <td id=\"T_d9a0d_row1_col6\" class=\"data row1 col6\" >0.320276</td>\n",
       "    </tr>\n",
       "    <tr>\n",
       "      <th id=\"T_d9a0d_level0_row2\" class=\"row_heading level0 row2\" >TyphoidFeat3</th>\n",
       "      <td id=\"T_d9a0d_row2_col0\" class=\"data row2 col0\" >0.257267</td>\n",
       "      <td id=\"T_d9a0d_row2_col1\" class=\"data row2 col1\" >0.251647</td>\n",
       "      <td id=\"T_d9a0d_row2_col2\" class=\"data row2 col2\" >1.000000</td>\n",
       "      <td id=\"T_d9a0d_row2_col3\" class=\"data row2 col3\" >0.506658</td>\n",
       "      <td id=\"T_d9a0d_row2_col4\" class=\"data row2 col4\" >0.386257</td>\n",
       "      <td id=\"T_d9a0d_row2_col5\" class=\"data row2 col5\" >0.311020</td>\n",
       "      <td id=\"T_d9a0d_row2_col6\" class=\"data row2 col6\" >0.281814</td>\n",
       "    </tr>\n",
       "    <tr>\n",
       "      <th id=\"T_d9a0d_level0_row3\" class=\"row_heading level0 row3\" >TyphoidFeat4</th>\n",
       "      <td id=\"T_d9a0d_row3_col0\" class=\"data row3 col0\" >0.015998</td>\n",
       "      <td id=\"T_d9a0d_row3_col1\" class=\"data row3 col1\" >0.403963</td>\n",
       "      <td id=\"T_d9a0d_row3_col2\" class=\"data row3 col2\" >0.506658</td>\n",
       "      <td id=\"T_d9a0d_row3_col3\" class=\"data row3 col3\" >1.000000</td>\n",
       "      <td id=\"T_d9a0d_row3_col4\" class=\"data row3 col4\" >0.349081</td>\n",
       "      <td id=\"T_d9a0d_row3_col5\" class=\"data row3 col5\" >0.840468</td>\n",
       "      <td id=\"T_d9a0d_row3_col6\" class=\"data row3 col6\" >0.520675</td>\n",
       "    </tr>\n",
       "    <tr>\n",
       "      <th id=\"T_d9a0d_level0_row4\" class=\"row_heading level0 row4\" >TyphoidFeat5</th>\n",
       "      <td id=\"T_d9a0d_row4_col0\" class=\"data row4 col0\" >0.173923</td>\n",
       "      <td id=\"T_d9a0d_row4_col1\" class=\"data row4 col1\" >0.042408</td>\n",
       "      <td id=\"T_d9a0d_row4_col2\" class=\"data row4 col2\" >0.386257</td>\n",
       "      <td id=\"T_d9a0d_row4_col3\" class=\"data row4 col3\" >0.349081</td>\n",
       "      <td id=\"T_d9a0d_row4_col4\" class=\"data row4 col4\" >1.000000</td>\n",
       "      <td id=\"T_d9a0d_row4_col5\" class=\"data row4 col5\" >0.192397</td>\n",
       "      <td id=\"T_d9a0d_row4_col6\" class=\"data row4 col6\" >0.045429</td>\n",
       "    </tr>\n",
       "    <tr>\n",
       "      <th id=\"T_d9a0d_level0_row5\" class=\"row_heading level0 row5\" >TyphoidFeat6</th>\n",
       "      <td id=\"T_d9a0d_row5_col0\" class=\"data row5 col0\" >0.075931</td>\n",
       "      <td id=\"T_d9a0d_row5_col1\" class=\"data row5 col1\" >0.452567</td>\n",
       "      <td id=\"T_d9a0d_row5_col2\" class=\"data row5 col2\" >0.311020</td>\n",
       "      <td id=\"T_d9a0d_row5_col3\" class=\"data row5 col3\" >0.840468</td>\n",
       "      <td id=\"T_d9a0d_row5_col4\" class=\"data row5 col4\" >0.192397</td>\n",
       "      <td id=\"T_d9a0d_row5_col5\" class=\"data row5 col5\" >1.000000</td>\n",
       "      <td id=\"T_d9a0d_row5_col6\" class=\"data row5 col6\" >0.539322</td>\n",
       "    </tr>\n",
       "    <tr>\n",
       "      <th id=\"T_d9a0d_level0_row6\" class=\"row_heading level0 row6\" >Label</th>\n",
       "      <td id=\"T_d9a0d_row6_col0\" class=\"data row6 col0\" >0.009633</td>\n",
       "      <td id=\"T_d9a0d_row6_col1\" class=\"data row6 col1\" >0.320276</td>\n",
       "      <td id=\"T_d9a0d_row6_col2\" class=\"data row6 col2\" >0.281814</td>\n",
       "      <td id=\"T_d9a0d_row6_col3\" class=\"data row6 col3\" >0.520675</td>\n",
       "      <td id=\"T_d9a0d_row6_col4\" class=\"data row6 col4\" >0.045429</td>\n",
       "      <td id=\"T_d9a0d_row6_col5\" class=\"data row6 col5\" >0.539322</td>\n",
       "      <td id=\"T_d9a0d_row6_col6\" class=\"data row6 col6\" >1.000000</td>\n",
       "    </tr>\n",
       "  </tbody>\n",
       "</table>\n"
      ],
      "text/plain": [
       "<pandas.io.formats.style.Styler at 0x7f67186ed790>"
      ]
     },
     "execution_count": 36,
     "metadata": {},
     "output_type": "execute_result"
    }
   ],
   "source": [
    "data.corr().abs().style.background_gradient(\"Blues\")"
   ]
  },
  {
   "cell_type": "markdown",
   "metadata": {},
   "source": [
    "features 6 and 4 are highly correlated, keeps 6 due to it high correlation with Label\n",
    "\n",
    "Very low correlation between features 1, 5 and Label. We will remove it "
   ]
  },
  {
   "cell_type": "code",
   "execution_count": 37,
   "metadata": {},
   "outputs": [
    {
     "data": {
      "text/plain": [
       "((2829, 3), (943, 3))"
      ]
     },
     "execution_count": 37,
     "metadata": {},
     "output_type": "execute_result"
    }
   ],
   "source": [
    "X_train_selected = X_train.drop(columns=[features[0], features[3], features[4]])\n",
    "X_test_selected = X_test.drop(columns=[features[0], features[3], features[4]])\n",
    "\n",
    "\n",
    "X_train_selected.shape, X_test_selected.shape"
   ]
  },
  {
   "cell_type": "code",
   "execution_count": 38,
   "metadata": {},
   "outputs": [],
   "source": [
    "mu, var = compute_mu_std(X_train_selected.values)\n",
    "\n",
    "train_density = multivariate_gaussian(X_train_selected.values, mu, var)\n",
    "test_density = multivariate_gaussian(X_test_selected.values, mu, var)"
   ]
  },
  {
   "cell_type": "code",
   "execution_count": 39,
   "metadata": {},
   "outputs": [
    {
     "name": "stdout",
     "output_type": "stream",
     "text": [
      "The optimal  threshold is: 0.07412489565666351\n",
      "The optimal f1_score is: 0.33469387755102037\n",
      "The accuracy is: 0.9423824673029338\n"
     ]
    }
   ],
   "source": [
    "epsilon, score, accuracy = select_threshold(y_train.values, train_density)\n",
    "\n",
    "print(\"The optimal  threshold is:\", epsilon)\n",
    "print(\"The optimal f1_score is:\", score)\n",
    "print(\"The accuracy is:\", accuracy)"
   ]
  },
  {
   "cell_type": "code",
   "execution_count": 40,
   "metadata": {},
   "outputs": [
    {
     "name": "stdout",
     "output_type": "stream",
     "text": [
      "F1-score when selecting features: 0.4594594594594595\n"
     ]
    }
   ],
   "source": [
    "test_score = compute_score(y_test.values, test_density < epsilon)\n",
    "\n",
    "print(\"F1-score when selecting features:\", test_score)"
   ]
  },
  {
   "cell_type": "markdown",
   "metadata": {},
   "source": [
    "## Compare Features selections with PCA 3 components"
   ]
  },
  {
   "cell_type": "code",
   "execution_count": 41,
   "metadata": {},
   "outputs": [
    {
     "data": {
      "text/plain": [
       "((2829, 3), (943, 3))"
      ]
     },
     "execution_count": 41,
     "metadata": {},
     "output_type": "execute_result"
    }
   ],
   "source": [
    "pca = PCA(n_components=3)\n",
    "\n",
    "X_train_selected = pca.fit_transform(X_train)\n",
    "X_test_selected = pca.transform(X_test)\n",
    "\n",
    "\n",
    "X_train_selected.shape, X_test_selected.shape"
   ]
  },
  {
   "cell_type": "code",
   "execution_count": 42,
   "metadata": {},
   "outputs": [],
   "source": [
    "mu, var = compute_mu_std(X_train_selected)\n",
    "\n",
    "train_density = multivariate_gaussian(X_train_selected, mu, var)\n",
    "test_density = multivariate_gaussian(X_test_selected, mu, var)"
   ]
  },
  {
   "cell_type": "code",
   "execution_count": 43,
   "metadata": {},
   "outputs": [
    {
     "name": "stdout",
     "output_type": "stream",
     "text": [
      "The optimal  threshold is: 0.008643553167393136\n",
      "The optimal f1_score is: 0.3867403314917127\n",
      "The accuracy is: 0.9607635206786851\n"
     ]
    }
   ],
   "source": [
    "epsilon, score, accuracy = select_threshold(y_train.values, train_density)\n",
    "\n",
    "print(\"The optimal  threshold is:\", epsilon)\n",
    "print(\"The optimal f1_score is:\", score)\n",
    "print(\"The accuracy is:\", accuracy)"
   ]
  },
  {
   "cell_type": "code",
   "execution_count": 44,
   "metadata": {},
   "outputs": [
    {
     "name": "stdout",
     "output_type": "stream",
     "text": [
      "F1-score when selecting features: 0.5161290322580646\n"
     ]
    }
   ],
   "source": [
    "test_score = compute_score(y_test.values, test_density < epsilon)\n",
    "\n",
    "print(\"F1-score when selecting features:\", test_score)"
   ]
  },
  {
   "cell_type": "markdown",
   "metadata": {},
   "source": [
    "## LOF implementation of sklearn"
   ]
  },
  {
   "cell_type": "code",
   "execution_count": 45,
   "metadata": {},
   "outputs": [],
   "source": [
    "from sklearn.neighbors import LocalOutlierFactor"
   ]
  },
  {
   "cell_type": "code",
   "execution_count": 46,
   "metadata": {},
   "outputs": [],
   "source": [
    "def fit_find_predict(model, X_train, y_train, X_test, y_test):\n",
    "    \"\"\"\n",
    "    Fit a model to the data and return the predictions\n",
    "    \"\"\"\n",
    "    model.fit(X_train.values)\n",
    "    train_density = model.predict(X_train.values)\n",
    "    test_density = model.predict(X_test.values)\n",
    "\n",
    "    epsilon, score, accuracy = select_threshold(y_train.values, train_density)\n",
    "\n",
    "    print(\"The optimal  threshold is:\", epsilon)\n",
    "    print(\"The optimal f1_score is:\", score)\n",
    "    print(\"The accuracy is:\", accuracy)\n",
    "\n",
    "    test_score = compute_score(y_test.values, test_density < epsilon)\n",
    "    print(\"F1-score when selecting features:\", test_score)"
   ]
  },
  {
   "cell_type": "code",
   "execution_count": 47,
   "metadata": {},
   "outputs": [
    {
     "name": "stdout",
     "output_type": "stream",
     "text": [
      "The optimal  threshold is: -0.998\n",
      "The optimal f1_score is: 0.2222222222222222\n",
      "The accuracy is: 0.9554612937433722\n",
      "F1-score when selecting features: 0.19230769230769232\n"
     ]
    }
   ],
   "source": [
    "fit_find_predict(\n",
    "    LocalOutlierFactor(novelty=True, n_neighbors=100),\n",
    "    X_train, y_train, X_test, y_test\n",
    ")"
   ]
  },
  {
   "cell_type": "code",
   "execution_count": 48,
   "metadata": {},
   "outputs": [],
   "source": [
    "from sklearn.svm import OneClassSVM"
   ]
  },
  {
   "cell_type": "code",
   "execution_count": 49,
   "metadata": {},
   "outputs": [
    {
     "name": "stdout",
     "output_type": "stream",
     "text": [
      "The optimal  threshold is: -0.998\n",
      "The optimal f1_score is: 0.09427609427609428\n",
      "The accuracy is: 0.5245669848002827\n",
      "F1-score when selecting features: 0.09001956947162425\n"
     ]
    }
   ],
   "source": [
    "fit_find_predict(\n",
    "    OneClassSVM(),\n",
    "    X_train, y_train, X_test, y_test\n",
    ")"
   ]
  },
  {
   "cell_type": "code",
   "execution_count": 50,
   "metadata": {},
   "outputs": [],
   "source": [
    "from sklearn.ensemble import IsolationForest"
   ]
  },
  {
   "cell_type": "code",
   "execution_count": 51,
   "metadata": {},
   "outputs": [
    {
     "name": "stdout",
     "output_type": "stream",
     "text": [
      "The optimal  threshold is: -0.998\n",
      "The optimal f1_score is: 0.31313131313131315\n",
      "The accuracy is: 0.903852951572994\n",
      "F1-score when selecting features: 0.35384615384615387\n"
     ]
    }
   ],
   "source": [
    "fit_find_predict(\n",
    "    IsolationForest(random_state=41),\n",
    "    X_train, y_train, X_test, y_test\n",
    ")"
   ]
  },
  {
   "cell_type": "markdown",
   "metadata": {},
   "source": [
    "## Classification approach"
   ]
  },
  {
   "cell_type": "code",
   "execution_count": 52,
   "metadata": {},
   "outputs": [],
   "source": [
    "from sklearn.linear_model import LogisticRegression\n",
    "from xgboost import XGBClassifier"
   ]
  },
  {
   "cell_type": "code",
   "execution_count": 53,
   "metadata": {},
   "outputs": [],
   "source": [
    "logistic = LogisticRegression().fit(X_train, y_train)"
   ]
  },
  {
   "cell_type": "code",
   "execution_count": 54,
   "metadata": {},
   "outputs": [
    {
     "data": {
      "text/plain": [
       "0.6976744186046512"
      ]
     },
     "execution_count": 54,
     "metadata": {},
     "output_type": "execute_result"
    }
   ],
   "source": [
    "preds = logistic.predict(X_test)\n",
    "\n",
    "compute_score(y_test.values, preds)"
   ]
  },
  {
   "cell_type": "code",
   "execution_count": 55,
   "metadata": {},
   "outputs": [],
   "source": [
    "xgb = XGBClassifier().fit(X_train, y_train)"
   ]
  },
  {
   "cell_type": "code",
   "execution_count": 56,
   "metadata": {},
   "outputs": [
    {
     "data": {
      "text/plain": [
       "0.9166666666666666"
      ]
     },
     "execution_count": 56,
     "metadata": {},
     "output_type": "execute_result"
    }
   ],
   "source": [
    "preds = xgb.predict(X_test)\n",
    "\n",
    "compute_score(y_test.values, preds)"
   ]
  },
  {
   "cell_type": "markdown",
   "metadata": {},
   "source": [
    "XGBoost is all you need, bye :-)"
   ]
  },
  {
   "cell_type": "code",
   "execution_count": null,
   "metadata": {},
   "outputs": [],
   "source": []
  }
 ],
 "metadata": {
  "kernelspec": {
   "display_name": "Python 3.9.12 ('base')",
   "language": "python",
   "name": "python3"
  },
  "language_info": {
   "codemirror_mode": {
    "name": "ipython",
    "version": 3
   },
   "file_extension": ".py",
   "mimetype": "text/x-python",
   "name": "python",
   "nbconvert_exporter": "python",
   "pygments_lexer": "ipython3",
   "version": "3.9.12"
  },
  "orig_nbformat": 4,
  "vscode": {
   "interpreter": {
    "hash": "d9a8acb4f733d3596df9f6fac9daff15e014d11794ebc65488d1c191c94698fd"
   }
  }
 },
 "nbformat": 4,
 "nbformat_minor": 2
}
