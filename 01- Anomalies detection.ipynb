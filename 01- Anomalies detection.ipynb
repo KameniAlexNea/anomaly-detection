{
 "cells": [
  {
   "cell_type": "markdown",
   "metadata": {},
   "source": [
    "# Thyroid Disease dataset\n",
    "\n",
    "#### Dataset information\n",
    "\n",
    "The original [thyroid disease](https://archive.ics.uci.edu/ml/datasets/Thyroid+Disease) (ann-thyroid) dataset from [UCI machine learning repository](https://archive.ics.uci.edu/ml/) is a classification dataset, which is suited for training ANNs. It has 3772 training instances and 3428 testing instances. It has 15 categorical and 6 real attributes. The problem is to determine whether a patient referred to the clinic is hypothyroid. Therefore three classes are built: normal (not hypothyroid), hyperfunction and subnormal functioning. For outlier detection, 3772 training instances are used, with only 6 real attributes. The hyperfunction class is treated as outlier class and other two classes are inliers, because hyperfunction is a clear minority class.\n",
    "\n",
    "#### Source (citation)\n",
    "\n",
    "F. Keller, E. Muller, K. Bohm.“[HiCS: High-contrast subspaces for density-based outlier ranking.](https://www.ipd.kit.edu/~muellere/publications/ICDE2012.pdf)” ICDE, 2012.\n",
    "\n",
    "C. C. Aggarwal and S. Sathe, “[Theoretical foundations and algorithms for outlier ensembles.](http://www.kdd.org/exploration_files/Article4.pdf)” ACM SIGKDD Explorations Newsletter, vol. 17, no. 1, pp. 24–47, 2015.Downloads\n",
    "\n",
    "Saket Sathe and Charu C. Aggarwal. [LODES: Local Density meets Spectral Outlier Detection.](http://saketsathe.net/papers/lodes.pdf) SIAM Conference on Data Mining, 2016.\n",
    "\n",
    "#### Downloads\n",
    "\n",
    "File: [thyroid.mat](https://www.dropbox.com/s/bih0e15a0fukftb/thyroid.mat?dl=0)\n",
    "\n",
    "Description: X = Multi-dimensional point data, y = labels (1 = outliers, 0 = inliers)"
   ]
  },
  {
   "cell_type": "markdown",
   "metadata": {},
   "source": [
    "## Load necessary libraries\n",
    "\n",
    "We will use scipy to load .mat dataset in python\n",
    "\n",
    "You can print dataset after loading to visualize all keys in it"
   ]
  },
  {
   "cell_type": "code",
   "execution_count": 1,
   "metadata": {},
   "outputs": [],
   "source": [
    "import numpy as np\n",
    "import pandas as pd\n",
    "from matplotlib import pyplot as plt\n",
    "from scipy.io import loadmat\n",
    "\n",
    "np.random.seed(41)"
   ]
  },
  {
   "cell_type": "code",
   "execution_count": 2,
   "metadata": {},
   "outputs": [
    {
     "data": {
      "text/plain": [
       "((3772, 6), (3772, 1))"
      ]
     },
     "execution_count": 2,
     "metadata": {},
     "output_type": "execute_result"
    }
   ],
   "source": [
    "dataset = loadmat(\"./thyroid.mat\")\n",
    "X = dataset[\"X\"]\n",
    "y = dataset[\"y\"]\n",
    "\n",
    "X.shape, y.shape"
   ]
  },
  {
   "cell_type": "markdown",
   "metadata": {},
   "source": [
    "## Build dataframe from the dataset (X, y)"
   ]
  },
  {
   "cell_type": "code",
   "execution_count": 3,
   "metadata": {},
   "outputs": [],
   "source": [
    "train_df = pd.DataFrame(X, columns=[f\"feat{i+1}\" for i in range(X.shape[1])])\n",
    "train_df[\"label\"] = y.reshape(-1)"
   ]
  },
  {
   "cell_type": "markdown",
   "metadata": {},
   "source": [
    "Print 5 inputs per group"
   ]
  },
  {
   "cell_type": "code",
   "execution_count": 4,
   "metadata": {},
   "outputs": [
    {
     "data": {
      "text/html": [
       "<div>\n",
       "<style scoped>\n",
       "    .dataframe tbody tr th:only-of-type {\n",
       "        vertical-align: middle;\n",
       "    }\n",
       "\n",
       "    .dataframe tbody tr th {\n",
       "        vertical-align: top;\n",
       "    }\n",
       "\n",
       "    .dataframe thead th {\n",
       "        text-align: right;\n",
       "    }\n",
       "</style>\n",
       "<table border=\"1\" class=\"dataframe\">\n",
       "  <thead>\n",
       "    <tr style=\"text-align: right;\">\n",
       "      <th></th>\n",
       "      <th>feat1</th>\n",
       "      <th>feat2</th>\n",
       "      <th>feat3</th>\n",
       "      <th>feat4</th>\n",
       "      <th>feat5</th>\n",
       "      <th>feat6</th>\n",
       "      <th>label</th>\n",
       "    </tr>\n",
       "  </thead>\n",
       "  <tbody>\n",
       "    <tr>\n",
       "      <th>3580</th>\n",
       "      <td>0.569892</td>\n",
       "      <td>0.005094</td>\n",
       "      <td>0.175522</td>\n",
       "      <td>0.254673</td>\n",
       "      <td>0.375587</td>\n",
       "      <td>0.180328</td>\n",
       "      <td>0.0</td>\n",
       "    </tr>\n",
       "    <tr>\n",
       "      <th>156</th>\n",
       "      <td>0.548387</td>\n",
       "      <td>0.001698</td>\n",
       "      <td>0.251423</td>\n",
       "      <td>0.261682</td>\n",
       "      <td>0.525822</td>\n",
       "      <td>0.139344</td>\n",
       "      <td>0.0</td>\n",
       "    </tr>\n",
       "    <tr>\n",
       "      <th>2419</th>\n",
       "      <td>0.612903</td>\n",
       "      <td>0.001226</td>\n",
       "      <td>0.279886</td>\n",
       "      <td>0.210280</td>\n",
       "      <td>0.356808</td>\n",
       "      <td>0.147541</td>\n",
       "      <td>0.0</td>\n",
       "    </tr>\n",
       "    <tr>\n",
       "      <th>1693</th>\n",
       "      <td>0.182796</td>\n",
       "      <td>0.002264</td>\n",
       "      <td>0.175522</td>\n",
       "      <td>0.189252</td>\n",
       "      <td>0.417840</td>\n",
       "      <td>0.122951</td>\n",
       "      <td>0.0</td>\n",
       "    </tr>\n",
       "    <tr>\n",
       "      <th>626</th>\n",
       "      <td>0.591398</td>\n",
       "      <td>0.000755</td>\n",
       "      <td>0.213472</td>\n",
       "      <td>0.275701</td>\n",
       "      <td>0.394366</td>\n",
       "      <td>0.188525</td>\n",
       "      <td>0.0</td>\n",
       "    </tr>\n",
       "    <tr>\n",
       "      <th>2937</th>\n",
       "      <td>0.290323</td>\n",
       "      <td>0.194340</td>\n",
       "      <td>0.192600</td>\n",
       "      <td>0.147196</td>\n",
       "      <td>0.455399</td>\n",
       "      <td>0.088525</td>\n",
       "      <td>1.0</td>\n",
       "    </tr>\n",
       "    <tr>\n",
       "      <th>2728</th>\n",
       "      <td>0.000000</td>\n",
       "      <td>0.081132</td>\n",
       "      <td>0.086338</td>\n",
       "      <td>0.074182</td>\n",
       "      <td>0.394366</td>\n",
       "      <td>0.049984</td>\n",
       "      <td>1.0</td>\n",
       "    </tr>\n",
       "    <tr>\n",
       "      <th>3274</th>\n",
       "      <td>0.526882</td>\n",
       "      <td>0.109434</td>\n",
       "      <td>0.222960</td>\n",
       "      <td>0.053738</td>\n",
       "      <td>0.478873</td>\n",
       "      <td>0.029508</td>\n",
       "      <td>1.0</td>\n",
       "    </tr>\n",
       "    <tr>\n",
       "      <th>1836</th>\n",
       "      <td>0.634409</td>\n",
       "      <td>0.057547</td>\n",
       "      <td>0.090133</td>\n",
       "      <td>0.070093</td>\n",
       "      <td>0.206573</td>\n",
       "      <td>0.080328</td>\n",
       "      <td>1.0</td>\n",
       "    </tr>\n",
       "    <tr>\n",
       "      <th>2374</th>\n",
       "      <td>0.387097</td>\n",
       "      <td>0.103774</td>\n",
       "      <td>0.080645</td>\n",
       "      <td>0.100467</td>\n",
       "      <td>0.399061</td>\n",
       "      <td>0.067213</td>\n",
       "      <td>1.0</td>\n",
       "    </tr>\n",
       "  </tbody>\n",
       "</table>\n",
       "</div>"
      ],
      "text/plain": [
       "         feat1     feat2     feat3     feat4     feat5     feat6  label\n",
       "3580  0.569892  0.005094  0.175522  0.254673  0.375587  0.180328    0.0\n",
       "156   0.548387  0.001698  0.251423  0.261682  0.525822  0.139344    0.0\n",
       "2419  0.612903  0.001226  0.279886  0.210280  0.356808  0.147541    0.0\n",
       "1693  0.182796  0.002264  0.175522  0.189252  0.417840  0.122951    0.0\n",
       "626   0.591398  0.000755  0.213472  0.275701  0.394366  0.188525    0.0\n",
       "2937  0.290323  0.194340  0.192600  0.147196  0.455399  0.088525    1.0\n",
       "2728  0.000000  0.081132  0.086338  0.074182  0.394366  0.049984    1.0\n",
       "3274  0.526882  0.109434  0.222960  0.053738  0.478873  0.029508    1.0\n",
       "1836  0.634409  0.057547  0.090133  0.070093  0.206573  0.080328    1.0\n",
       "2374  0.387097  0.103774  0.080645  0.100467  0.399061  0.067213    1.0"
      ]
     },
     "execution_count": 4,
     "metadata": {},
     "output_type": "execute_result"
    }
   ],
   "source": [
    "train_df.groupby(\"label\").sample(5)"
   ]
  },
  {
   "cell_type": "code",
   "execution_count": 5,
   "metadata": {},
   "outputs": [
    {
     "data": {
      "text/html": [
       "<div>\n",
       "<style scoped>\n",
       "    .dataframe tbody tr th:only-of-type {\n",
       "        vertical-align: middle;\n",
       "    }\n",
       "\n",
       "    .dataframe tbody tr th {\n",
       "        vertical-align: top;\n",
       "    }\n",
       "\n",
       "    .dataframe thead th {\n",
       "        text-align: right;\n",
       "    }\n",
       "</style>\n",
       "<table border=\"1\" class=\"dataframe\">\n",
       "  <thead>\n",
       "    <tr style=\"text-align: right;\">\n",
       "      <th></th>\n",
       "      <th>feat1</th>\n",
       "      <th>feat2</th>\n",
       "      <th>feat3</th>\n",
       "      <th>feat4</th>\n",
       "      <th>feat5</th>\n",
       "      <th>feat6</th>\n",
       "      <th>label</th>\n",
       "    </tr>\n",
       "  </thead>\n",
       "  <tbody>\n",
       "    <tr>\n",
       "      <th>count</th>\n",
       "      <td>3772.000000</td>\n",
       "      <td>3772.000000</td>\n",
       "      <td>3772.000000</td>\n",
       "      <td>3772.000000</td>\n",
       "      <td>3772.000000</td>\n",
       "      <td>3772.000000</td>\n",
       "      <td>3772.000000</td>\n",
       "    </tr>\n",
       "    <tr>\n",
       "      <th>mean</th>\n",
       "      <td>0.543121</td>\n",
       "      <td>0.008983</td>\n",
       "      <td>0.186826</td>\n",
       "      <td>0.248332</td>\n",
       "      <td>0.376941</td>\n",
       "      <td>0.177301</td>\n",
       "      <td>0.024655</td>\n",
       "    </tr>\n",
       "    <tr>\n",
       "      <th>std</th>\n",
       "      <td>0.203790</td>\n",
       "      <td>0.043978</td>\n",
       "      <td>0.070405</td>\n",
       "      <td>0.080579</td>\n",
       "      <td>0.087382</td>\n",
       "      <td>0.054907</td>\n",
       "      <td>0.155093</td>\n",
       "    </tr>\n",
       "    <tr>\n",
       "      <th>min</th>\n",
       "      <td>0.000000</td>\n",
       "      <td>0.000000</td>\n",
       "      <td>0.000000</td>\n",
       "      <td>0.000000</td>\n",
       "      <td>0.000000</td>\n",
       "      <td>0.000000</td>\n",
       "      <td>0.000000</td>\n",
       "    </tr>\n",
       "    <tr>\n",
       "      <th>25%</th>\n",
       "      <td>0.376344</td>\n",
       "      <td>0.001132</td>\n",
       "      <td>0.156546</td>\n",
       "      <td>0.203271</td>\n",
       "      <td>0.328638</td>\n",
       "      <td>0.149180</td>\n",
       "      <td>0.000000</td>\n",
       "    </tr>\n",
       "    <tr>\n",
       "      <th>50%</th>\n",
       "      <td>0.569892</td>\n",
       "      <td>0.003019</td>\n",
       "      <td>0.190702</td>\n",
       "      <td>0.241822</td>\n",
       "      <td>0.375587</td>\n",
       "      <td>0.173770</td>\n",
       "      <td>0.000000</td>\n",
       "    </tr>\n",
       "    <tr>\n",
       "      <th>75%</th>\n",
       "      <td>0.709677</td>\n",
       "      <td>0.004528</td>\n",
       "      <td>0.213472</td>\n",
       "      <td>0.282710</td>\n",
       "      <td>0.413146</td>\n",
       "      <td>0.196721</td>\n",
       "      <td>0.000000</td>\n",
       "    </tr>\n",
       "    <tr>\n",
       "      <th>max</th>\n",
       "      <td>1.000000</td>\n",
       "      <td>1.000000</td>\n",
       "      <td>1.000000</td>\n",
       "      <td>1.000000</td>\n",
       "      <td>1.000000</td>\n",
       "      <td>1.000000</td>\n",
       "      <td>1.000000</td>\n",
       "    </tr>\n",
       "  </tbody>\n",
       "</table>\n",
       "</div>"
      ],
      "text/plain": [
       "             feat1        feat2        feat3        feat4        feat5  \\\n",
       "count  3772.000000  3772.000000  3772.000000  3772.000000  3772.000000   \n",
       "mean      0.543121     0.008983     0.186826     0.248332     0.376941   \n",
       "std       0.203790     0.043978     0.070405     0.080579     0.087382   \n",
       "min       0.000000     0.000000     0.000000     0.000000     0.000000   \n",
       "25%       0.376344     0.001132     0.156546     0.203271     0.328638   \n",
       "50%       0.569892     0.003019     0.190702     0.241822     0.375587   \n",
       "75%       0.709677     0.004528     0.213472     0.282710     0.413146   \n",
       "max       1.000000     1.000000     1.000000     1.000000     1.000000   \n",
       "\n",
       "             feat6        label  \n",
       "count  3772.000000  3772.000000  \n",
       "mean      0.177301     0.024655  \n",
       "std       0.054907     0.155093  \n",
       "min       0.000000     0.000000  \n",
       "25%       0.149180     0.000000  \n",
       "50%       0.173770     0.000000  \n",
       "75%       0.196721     0.000000  \n",
       "max       1.000000     1.000000  "
      ]
     },
     "execution_count": 5,
     "metadata": {},
     "output_type": "execute_result"
    }
   ],
   "source": [
    "train_df.describe()"
   ]
  },
  {
   "cell_type": "markdown",
   "metadata": {},
   "source": [
    "## Feature corralation matrix\n",
    "\n",
    "Some feature are more correlated with the target value than other features"
   ]
  },
  {
   "cell_type": "code",
   "execution_count": 6,
   "metadata": {},
   "outputs": [
    {
     "data": {
      "text/html": [
       "<style type=\"text/css\">\n",
       "#T_50d7b_row0_col0, #T_50d7b_row1_col1, #T_50d7b_row2_col2, #T_50d7b_row3_col3, #T_50d7b_row4_col4, #T_50d7b_row5_col5, #T_50d7b_row6_col6 {\n",
       "  background-color: #08306b;\n",
       "  color: #f1f1f1;\n",
       "}\n",
       "#T_50d7b_row0_col1, #T_50d7b_row0_col3, #T_50d7b_row0_col5, #T_50d7b_row0_col6, #T_50d7b_row1_col2, #T_50d7b_row6_col0, #T_50d7b_row6_col4 {\n",
       "  background-color: #f7fbff;\n",
       "  color: #000000;\n",
       "}\n",
       "#T_50d7b_row0_col2, #T_50d7b_row6_col2 {\n",
       "  background-color: #e8f1fa;\n",
       "  color: #000000;\n",
       "}\n",
       "#T_50d7b_row0_col4 {\n",
       "  background-color: #dce9f6;\n",
       "  color: #000000;\n",
       "}\n",
       "#T_50d7b_row1_col0 {\n",
       "  background-color: #eff6fc;\n",
       "  color: #000000;\n",
       "}\n",
       "#T_50d7b_row1_col3 {\n",
       "  background-color: #caddf0;\n",
       "  color: #000000;\n",
       "}\n",
       "#T_50d7b_row1_col4 {\n",
       "  background-color: #f0f6fd;\n",
       "  color: #000000;\n",
       "}\n",
       "#T_50d7b_row1_col5 {\n",
       "  background-color: #c8dcf0;\n",
       "  color: #000000;\n",
       "}\n",
       "#T_50d7b_row1_col6 {\n",
       "  background-color: #4a98c9;\n",
       "  color: #f1f1f1;\n",
       "}\n",
       "#T_50d7b_row2_col0, #T_50d7b_row2_col6 {\n",
       "  background-color: #cddff1;\n",
       "  color: #000000;\n",
       "}\n",
       "#T_50d7b_row2_col1 {\n",
       "  background-color: #e0ecf8;\n",
       "  color: #000000;\n",
       "}\n",
       "#T_50d7b_row2_col3 {\n",
       "  background-color: #6dafd7;\n",
       "  color: #f1f1f1;\n",
       "}\n",
       "#T_50d7b_row2_col4 {\n",
       "  background-color: #a0cbe2;\n",
       "  color: #000000;\n",
       "}\n",
       "#T_50d7b_row2_col5, #T_50d7b_row4_col2 {\n",
       "  background-color: #bed8ec;\n",
       "  color: #000000;\n",
       "}\n",
       "#T_50d7b_row3_col0, #T_50d7b_row4_col6 {\n",
       "  background-color: #f2f8fd;\n",
       "  color: #000000;\n",
       "}\n",
       "#T_50d7b_row3_col1 {\n",
       "  background-color: #ccdff1;\n",
       "  color: #000000;\n",
       "}\n",
       "#T_50d7b_row3_col2 {\n",
       "  background-color: #8cc0dd;\n",
       "  color: #000000;\n",
       "}\n",
       "#T_50d7b_row3_col4, #T_50d7b_row4_col3 {\n",
       "  background-color: #95c5df;\n",
       "  color: #000000;\n",
       "}\n",
       "#T_50d7b_row3_col5 {\n",
       "  background-color: #206fb4;\n",
       "  color: #f1f1f1;\n",
       "}\n",
       "#T_50d7b_row3_col6 {\n",
       "  background-color: #abd0e6;\n",
       "  color: #000000;\n",
       "}\n",
       "#T_50d7b_row4_col0 {\n",
       "  background-color: #d8e7f5;\n",
       "  color: #000000;\n",
       "}\n",
       "#T_50d7b_row4_col1 {\n",
       "  background-color: #f3f8fe;\n",
       "  color: #000000;\n",
       "}\n",
       "#T_50d7b_row4_col5 {\n",
       "  background-color: #dceaf6;\n",
       "  color: #000000;\n",
       "}\n",
       "#T_50d7b_row5_col0 {\n",
       "  background-color: #eef5fc;\n",
       "  color: #000000;\n",
       "}\n",
       "#T_50d7b_row5_col1 {\n",
       "  background-color: #c7dbef;\n",
       "  color: #000000;\n",
       "}\n",
       "#T_50d7b_row5_col2 {\n",
       "  background-color: #d2e3f3;\n",
       "  color: #000000;\n",
       "}\n",
       "#T_50d7b_row5_col3 {\n",
       "  background-color: #1e6db2;\n",
       "  color: #f1f1f1;\n",
       "}\n",
       "#T_50d7b_row5_col4 {\n",
       "  background-color: #d9e7f5;\n",
       "  color: #000000;\n",
       "}\n",
       "#T_50d7b_row5_col6 {\n",
       "  background-color: #a4cce3;\n",
       "  color: #000000;\n",
       "}\n",
       "#T_50d7b_row6_col1 {\n",
       "  background-color: #4f9bcb;\n",
       "  color: #f1f1f1;\n",
       "}\n",
       "#T_50d7b_row6_col3 {\n",
       "  background-color: #b2d2e8;\n",
       "  color: #000000;\n",
       "}\n",
       "#T_50d7b_row6_col5 {\n",
       "  background-color: #aed1e7;\n",
       "  color: #000000;\n",
       "}\n",
       "</style>\n",
       "<table id=\"T_50d7b\">\n",
       "  <thead>\n",
       "    <tr>\n",
       "      <th class=\"blank level0\" >&nbsp;</th>\n",
       "      <th id=\"T_50d7b_level0_col0\" class=\"col_heading level0 col0\" >feat1</th>\n",
       "      <th id=\"T_50d7b_level0_col1\" class=\"col_heading level0 col1\" >feat2</th>\n",
       "      <th id=\"T_50d7b_level0_col2\" class=\"col_heading level0 col2\" >feat3</th>\n",
       "      <th id=\"T_50d7b_level0_col3\" class=\"col_heading level0 col3\" >feat4</th>\n",
       "      <th id=\"T_50d7b_level0_col4\" class=\"col_heading level0 col4\" >feat5</th>\n",
       "      <th id=\"T_50d7b_level0_col5\" class=\"col_heading level0 col5\" >feat6</th>\n",
       "      <th id=\"T_50d7b_level0_col6\" class=\"col_heading level0 col6\" >label</th>\n",
       "    </tr>\n",
       "  </thead>\n",
       "  <tbody>\n",
       "    <tr>\n",
       "      <th id=\"T_50d7b_level0_row0\" class=\"row_heading level0 row0\" >feat1</th>\n",
       "      <td id=\"T_50d7b_row0_col0\" class=\"data row0 col0\" >1.000000</td>\n",
       "      <td id=\"T_50d7b_row0_col1\" class=\"data row0 col1\" >0.053253</td>\n",
       "      <td id=\"T_50d7b_row0_col2\" class=\"data row0 col2\" >0.226474</td>\n",
       "      <td id=\"T_50d7b_row0_col3\" class=\"data row0 col3\" >0.040146</td>\n",
       "      <td id=\"T_50d7b_row0_col4\" class=\"data row0 col4\" >0.170440</td>\n",
       "      <td id=\"T_50d7b_row0_col5\" class=\"data row0 col5\" >0.059247</td>\n",
       "      <td id=\"T_50d7b_row0_col6\" class=\"data row0 col6\" >0.013753</td>\n",
       "    </tr>\n",
       "    <tr>\n",
       "      <th id=\"T_50d7b_level0_row1\" class=\"row_heading level0 row1\" >feat2</th>\n",
       "      <td id=\"T_50d7b_row1_col0\" class=\"data row1 col0\" >0.053253</td>\n",
       "      <td id=\"T_50d7b_row1_col1\" class=\"data row1 col1\" >1.000000</td>\n",
       "      <td id=\"T_50d7b_row1_col2\" class=\"data row1 col2\" >0.161426</td>\n",
       "      <td id=\"T_50d7b_row1_col3\" class=\"data row1 col3\" >0.261677</td>\n",
       "      <td id=\"T_50d7b_row1_col4\" class=\"data row1 col4\" >0.072012</td>\n",
       "      <td id=\"T_50d7b_row1_col5\" class=\"data row1 col5\" >0.286846</td>\n",
       "      <td id=\"T_50d7b_row1_col6\" class=\"data row1 col6\" >0.604791</td>\n",
       "    </tr>\n",
       "    <tr>\n",
       "      <th id=\"T_50d7b_level0_row2\" class=\"row_heading level0 row2\" >feat3</th>\n",
       "      <td id=\"T_50d7b_row2_col0\" class=\"data row2 col0\" >0.226474</td>\n",
       "      <td id=\"T_50d7b_row2_col1\" class=\"data row2 col1\" >0.161426</td>\n",
       "      <td id=\"T_50d7b_row2_col2\" class=\"data row2 col2\" >1.000000</td>\n",
       "      <td id=\"T_50d7b_row2_col3\" class=\"data row2 col3\" >0.513076</td>\n",
       "      <td id=\"T_50d7b_row2_col4\" class=\"data row2 col4\" >0.392945</td>\n",
       "      <td id=\"T_50d7b_row2_col5\" class=\"data row2 col5\" >0.319112</td>\n",
       "      <td id=\"T_50d7b_row2_col6\" class=\"data row2 col6\" >0.225713</td>\n",
       "    </tr>\n",
       "    <tr>\n",
       "      <th id=\"T_50d7b_level0_row3\" class=\"row_heading level0 row3\" >feat4</th>\n",
       "      <td id=\"T_50d7b_row3_col0\" class=\"data row3 col0\" >0.040146</td>\n",
       "      <td id=\"T_50d7b_row3_col1\" class=\"data row3 col1\" >0.261677</td>\n",
       "      <td id=\"T_50d7b_row3_col2\" class=\"data row3 col2\" >0.513076</td>\n",
       "      <td id=\"T_50d7b_row3_col3\" class=\"data row3 col3\" >1.000000</td>\n",
       "      <td id=\"T_50d7b_row3_col4\" class=\"data row3 col4\" >0.420842</td>\n",
       "      <td id=\"T_50d7b_row3_col5\" class=\"data row3 col5\" >0.771332</td>\n",
       "      <td id=\"T_50d7b_row3_col6\" class=\"data row3 col6\" >0.343590</td>\n",
       "    </tr>\n",
       "    <tr>\n",
       "      <th id=\"T_50d7b_level0_row4\" class=\"row_heading level0 row4\" >feat5</th>\n",
       "      <td id=\"T_50d7b_row4_col0\" class=\"data row4 col0\" >0.170440</td>\n",
       "      <td id=\"T_50d7b_row4_col1\" class=\"data row4 col1\" >0.072012</td>\n",
       "      <td id=\"T_50d7b_row4_col2\" class=\"data row4 col2\" >0.392945</td>\n",
       "      <td id=\"T_50d7b_row4_col3\" class=\"data row4 col3\" >0.420842</td>\n",
       "      <td id=\"T_50d7b_row4_col4\" class=\"data row4 col4\" >1.000000</td>\n",
       "      <td id=\"T_50d7b_row4_col5\" class=\"data row4 col5\" >0.187793</td>\n",
       "      <td id=\"T_50d7b_row4_col6\" class=\"data row4 col6\" >0.038140</td>\n",
       "    </tr>\n",
       "    <tr>\n",
       "      <th id=\"T_50d7b_level0_row5\" class=\"row_heading level0 row5\" >feat6</th>\n",
       "      <td id=\"T_50d7b_row5_col0\" class=\"data row5 col0\" >0.059247</td>\n",
       "      <td id=\"T_50d7b_row5_col1\" class=\"data row5 col1\" >0.286846</td>\n",
       "      <td id=\"T_50d7b_row5_col2\" class=\"data row5 col2\" >0.319112</td>\n",
       "      <td id=\"T_50d7b_row5_col3\" class=\"data row5 col3\" >0.771332</td>\n",
       "      <td id=\"T_50d7b_row5_col4\" class=\"data row5 col4\" >0.187793</td>\n",
       "      <td id=\"T_50d7b_row5_col5\" class=\"data row5 col5\" >1.000000</td>\n",
       "      <td id=\"T_50d7b_row5_col6\" class=\"data row5 col6\" >0.366111</td>\n",
       "    </tr>\n",
       "    <tr>\n",
       "      <th id=\"T_50d7b_level0_row6\" class=\"row_heading level0 row6\" >label</th>\n",
       "      <td id=\"T_50d7b_row6_col0\" class=\"data row6 col0\" >0.013753</td>\n",
       "      <td id=\"T_50d7b_row6_col1\" class=\"data row6 col1\" >0.604791</td>\n",
       "      <td id=\"T_50d7b_row6_col2\" class=\"data row6 col2\" >0.225713</td>\n",
       "      <td id=\"T_50d7b_row6_col3\" class=\"data row6 col3\" >0.343590</td>\n",
       "      <td id=\"T_50d7b_row6_col4\" class=\"data row6 col4\" >0.038140</td>\n",
       "      <td id=\"T_50d7b_row6_col5\" class=\"data row6 col5\" >0.366111</td>\n",
       "      <td id=\"T_50d7b_row6_col6\" class=\"data row6 col6\" >1.000000</td>\n",
       "    </tr>\n",
       "  </tbody>\n",
       "</table>\n"
      ],
      "text/plain": [
       "<pandas.io.formats.style.Styler at 0x7f87983274c0>"
      ]
     },
     "execution_count": 6,
     "metadata": {},
     "output_type": "execute_result"
    }
   ],
   "source": [
    "train_df.corr().abs().style.background_gradient(\"Blues\")"
   ]
  },
  {
   "cell_type": "code",
   "execution_count": 7,
   "metadata": {},
   "outputs": [
    {
     "data": {
      "text/plain": [
       "Index(['feat1', 'feat2', 'feat3', 'feat4', 'feat5', 'feat6'], dtype='object')"
      ]
     },
     "execution_count": 7,
     "metadata": {},
     "output_type": "execute_result"
    }
   ],
   "source": [
    "features = train_df.columns[:-1]\n",
    "\n",
    "features # print features columns"
   ]
  },
  {
   "cell_type": "markdown",
   "metadata": {},
   "source": [
    "## Visualize data distribution"
   ]
  },
  {
   "cell_type": "code",
   "execution_count": 8,
   "metadata": {},
   "outputs": [
    {
     "data": {
      "image/png": "[encoded data removed]",
      "text/plain": [
       "<Figure size 864x1800 with 6 Axes>"
      ]
     },
     "metadata": {
      "needs_background": "light"
     },
     "output_type": "display_data"
    }
   ],
   "source": [
    "train_df[features].plot.hist(subplots=True, figsize=(12, 25))\n",
    "plt.show()"
   ]
  },
  {
   "cell_type": "markdown",
   "metadata": {},
   "source": [
    "## Create normal distribution from this features matrix\n",
    "We will gradually apply these functions to each feature :\n",
    "- $x_1 => x_1$\n",
    "- $x_2 => np.log(x_2)$\n",
    "- $x_3 => x_3^{1/4}$\n",
    "- $x_4 => x_4^{1/4}$\n",
    "- $x_5 => np.log(x_5 + 1)$\n",
    "- $x_6 => x_6^{1/3}$"
   ]
  },
  {
   "cell_type": "markdown",
   "metadata": {},
   "source": [
    "Plot of feature 2 after applying log function"
   ]
  },
  {
   "cell_type": "code",
   "execution_count": 14,
   "metadata": {},
   "outputs": [
    {
     "data": {
      "image/png": "[encoded data removed]",
      "text/plain": [
       "<Figure size 864x432 with 2 Axes>"
      ]
     },
     "metadata": {
      "needs_background": "light"
     },
     "output_type": "display_data"
    }
   ],
   "source": [
    "f, (ax1, ax2) = plt.subplots(1, 2, sharey=True, figsize=(12, 6))\n",
    "ax1.hist(train_df[features[1]].values)\n",
    "ax1.set_title(\"Hist of \"+features[1]+\" before normalization\")\n",
    "ax2.hist(np.log(1e-8 + train_df[features[1]].values))\n",
    "ax2.set_title(\"Hist of \"+features[1]+\" after normalization\")\n",
    "# plt.title('Histogram of feature: '+ features[1])\n",
    "# plt.xlabel('Feature')\n",
    "plt.show()"
   ]
  },
  {
   "cell_type": "code",
   "execution_count": 15,
   "metadata": {},
   "outputs": [],
   "source": [
    "train_df[features[0]] = train_df[features[0]]\n",
    "train_df[features[1]] = np.log(train_df[features[1]] + 1e-7)\n",
    "train_df[features[2]] = train_df[features[2]] ** (1/3)\n",
    "train_df[features[3]] = train_df[features[3]] ** (1/4)\n",
    "train_df[features[4]] = np.log(1 + train_df[features[4]])\n",
    "train_df[features[5]] = train_df[features[5]] ** (1/3)"
   ]
  },
  {
   "cell_type": "markdown",
   "metadata": {},
   "source": [
    "## Apply PCA to visualize outlier and inlier\n",
    "\n",
    "Principal component analysis (PCA).\n",
    "\n",
    "Principal component analysis (PCA) is a popular technique for analyzing large datasets containing a high number of dimensions/features per observation, increasing the interpretability of data while preserving the maximum amount of information, and enabling the visualization of multidimensional data. Formally, PCA is a statistical technique for reducing the dimensionality of a dataset. This is accomplished by linearly transforming the data into a new coordinate system where (most of) the variation in the data can be described with fewer dimensions than the initial data. Many studies use the first two principal components in order to plot the data in two dimensions and to visually identify clusters of closely related data points"
   ]
  },
  {
   "cell_type": "code",
   "execution_count": 16,
   "metadata": {},
   "outputs": [],
   "source": [
    "from sklearn.decomposition import PCA\n",
    "\n",
    "pca = PCA(n_components=2).fit(train_df[features])"
   ]
  },
  {
   "cell_type": "markdown",
   "metadata": {},
   "source": [
    "**explained_variance_** : **ndarray of shape (n_components,)** \n",
    "\n",
    "The amount of variance explained by each of the selected components. The variance estimation uses `n_samples` degrees of freedom.\n",
    "\n",
    "Equal to n_components largest eigenvalues of the covariance matrix of X."
   ]
  },
  {
   "cell_type": "code",
   "execution_count": 17,
   "metadata": {},
   "outputs": [
    {
     "data": {
      "text/plain": [
       "array([3.95285689, 0.04199122])"
      ]
     },
     "execution_count": 17,
     "metadata": {},
     "output_type": "execute_result"
    }
   ],
   "source": [
    "pca.explained_variance_"
   ]
  },
  {
   "cell_type": "code",
   "execution_count": 18,
   "metadata": {},
   "outputs": [
    {
     "data": {
      "text/plain": [
       "((3772, 2), (3772, 7))"
      ]
     },
     "execution_count": 18,
     "metadata": {},
     "output_type": "execute_result"
    }
   ],
   "source": [
    "train_pca = pca.transform(train_df[features])\n",
    "train_pca.shape, train_df.shape"
   ]
  },
  {
   "cell_type": "markdown",
   "metadata": {},
   "source": [
    "## Plot ~100 samples per class"
   ]
  },
  {
   "cell_type": "code",
   "execution_count": 20,
   "metadata": {},
   "outputs": [
    {
     "data": {
      "text/html": [
       "<div>\n",
       "<style scoped>\n",
       "    .dataframe tbody tr th:only-of-type {\n",
       "        vertical-align: middle;\n",
       "    }\n",
       "\n",
       "    .dataframe tbody tr th {\n",
       "        vertical-align: top;\n",
       "    }\n",
       "\n",
       "    .dataframe thead th {\n",
       "        text-align: right;\n",
       "    }\n",
       "</style>\n",
       "<table border=\"1\" class=\"dataframe\">\n",
       "  <thead>\n",
       "    <tr style=\"text-align: right;\">\n",
       "      <th></th>\n",
       "      <th>feat1</th>\n",
       "      <th>feat2</th>\n",
       "      <th>feat3</th>\n",
       "      <th>feat4</th>\n",
       "      <th>feat5</th>\n",
       "      <th>feat6</th>\n",
       "      <th>label</th>\n",
       "    </tr>\n",
       "  </thead>\n",
       "  <tbody>\n",
       "    <tr>\n",
       "      <th>311</th>\n",
       "      <td>0.860215</td>\n",
       "      <td>-7.882050</td>\n",
       "      <td>0.588662</td>\n",
       "      <td>0.743801</td>\n",
       "      <td>0.244510</td>\n",
       "      <td>0.651907</td>\n",
       "      <td>0.0</td>\n",
       "    </tr>\n",
       "    <tr>\n",
       "      <th>1863</th>\n",
       "      <td>0.129032</td>\n",
       "      <td>-5.279606</td>\n",
       "      <td>0.638995</td>\n",
       "      <td>0.708753</td>\n",
       "      <td>0.355736</td>\n",
       "      <td>0.543624</td>\n",
       "      <td>0.0</td>\n",
       "    </tr>\n",
       "    <tr>\n",
       "      <th>683</th>\n",
       "      <td>0.591398</td>\n",
       "      <td>-7.658959</td>\n",
       "      <td>0.569812</td>\n",
       "      <td>0.659569</td>\n",
       "      <td>0.277063</td>\n",
       "      <td>0.536125</td>\n",
       "      <td>0.0</td>\n",
       "    </tr>\n",
       "    <tr>\n",
       "      <th>176</th>\n",
       "      <td>0.505376</td>\n",
       "      <td>-8.574932</td>\n",
       "      <td>0.575597</td>\n",
       "      <td>0.723079</td>\n",
       "      <td>0.291197</td>\n",
       "      <td>0.595781</td>\n",
       "      <td>0.0</td>\n",
       "    </tr>\n",
       "    <tr>\n",
       "      <th>1785</th>\n",
       "      <td>0.462366</td>\n",
       "      <td>-5.174247</td>\n",
       "      <td>0.504078</td>\n",
       "      <td>0.696979</td>\n",
       "      <td>0.280615</td>\n",
       "      <td>0.575055</td>\n",
       "      <td>0.0</td>\n",
       "    </tr>\n",
       "    <tr>\n",
       "      <th>39</th>\n",
       "      <td>0.397849</td>\n",
       "      <td>-4.206008</td>\n",
       "      <td>0.760722</td>\n",
       "      <td>0.729181</td>\n",
       "      <td>0.041385</td>\n",
       "      <td>0.898858</td>\n",
       "      <td>0.0</td>\n",
       "    </tr>\n",
       "    <tr>\n",
       "      <th>1586</th>\n",
       "      <td>0.365591</td>\n",
       "      <td>-6.303282</td>\n",
       "      <td>0.606377</td>\n",
       "      <td>0.655459</td>\n",
       "      <td>0.233419</td>\n",
       "      <td>0.559781</td>\n",
       "      <td>0.0</td>\n",
       "    </tr>\n",
       "    <tr>\n",
       "      <th>210</th>\n",
       "      <td>0.258065</td>\n",
       "      <td>-4.683631</td>\n",
       "      <td>0.575597</td>\n",
       "      <td>0.640431</td>\n",
       "      <td>0.294700</td>\n",
       "      <td>0.503796</td>\n",
       "      <td>0.0</td>\n",
       "    </tr>\n",
       "    <tr>\n",
       "      <th>1987</th>\n",
       "      <td>0.666667</td>\n",
       "      <td>-16.118096</td>\n",
       "      <td>0.575597</td>\n",
       "      <td>0.735134</td>\n",
       "      <td>0.294700</td>\n",
       "      <td>0.606368</td>\n",
       "      <td>0.0</td>\n",
       "    </tr>\n",
       "    <tr>\n",
       "      <th>2047</th>\n",
       "      <td>0.634409</td>\n",
       "      <td>-5.802840</td>\n",
       "      <td>0.577500</td>\n",
       "      <td>0.712012</td>\n",
       "      <td>0.315462</td>\n",
       "      <td>0.568368</td>\n",
       "      <td>0.0</td>\n",
       "    </tr>\n",
       "  </tbody>\n",
       "</table>\n",
       "</div>"
      ],
      "text/plain": [
       "         feat1      feat2     feat3     feat4     feat5     feat6  label\n",
       "311   0.860215  -7.882050  0.588662  0.743801  0.244510  0.651907    0.0\n",
       "1863  0.129032  -5.279606  0.638995  0.708753  0.355736  0.543624    0.0\n",
       "683   0.591398  -7.658959  0.569812  0.659569  0.277063  0.536125    0.0\n",
       "176   0.505376  -8.574932  0.575597  0.723079  0.291197  0.595781    0.0\n",
       "1785  0.462366  -5.174247  0.504078  0.696979  0.280615  0.575055    0.0\n",
       "39    0.397849  -4.206008  0.760722  0.729181  0.041385  0.898858    0.0\n",
       "1586  0.365591  -6.303282  0.606377  0.655459  0.233419  0.559781    0.0\n",
       "210   0.258065  -4.683631  0.575597  0.640431  0.294700  0.503796    0.0\n",
       "1987  0.666667 -16.118096  0.575597  0.735134  0.294700  0.606368    0.0\n",
       "2047  0.634409  -5.802840  0.577500  0.712012  0.315462  0.568368    0.0"
      ]
     },
     "execution_count": 20,
     "metadata": {},
     "output_type": "execute_result"
    }
   ],
   "source": [
    "data = train_df.groupby(\"label\").sample(frac=0.8)\n",
    "data.sample(10)"
   ]
  },
  {
   "cell_type": "code",
   "execution_count": 21,
   "metadata": {},
   "outputs": [],
   "source": [
    "import seaborn as sns"
   ]
  },
  {
   "cell_type": "markdown",
   "metadata": {},
   "source": [
    "For good visualization, we will use only a subset of the data"
   ]
  },
  {
   "cell_type": "code",
   "execution_count": 22,
   "metadata": {},
   "outputs": [
    {
     "data": {
      "image/png": "[encoded data removed]",
      "text/plain": [
       "<Figure size 432x288 with 1 Axes>"
      ]
     },
     "metadata": {
      "needs_background": "light"
     },
     "output_type": "display_data"
    }
   ],
   "source": [
    "sns.scatterplot(x=train_pca[data.index][:, 0], y=train_pca[data.index][:, 1], hue=data.label.values)\n",
    "plt.show()"
   ]
  },
  {
   "cell_type": "markdown",
   "metadata": {},
   "source": [
    "Outlier are left aligned features in this visualization"
   ]
  },
  {
   "cell_type": "markdown",
   "metadata": {},
   "source": [
    "## Split dataset into training and testing"
   ]
  },
  {
   "cell_type": "code",
   "execution_count": 23,
   "metadata": {},
   "outputs": [],
   "source": [
    "from sklearn.model_selection import train_test_split"
   ]
  },
  {
   "cell_type": "code",
   "execution_count": 24,
   "metadata": {},
   "outputs": [
    {
     "data": {
      "text/html": [
       "<div>\n",
       "<style scoped>\n",
       "    .dataframe tbody tr th:only-of-type {\n",
       "        vertical-align: middle;\n",
       "    }\n",
       "\n",
       "    .dataframe tbody tr th {\n",
       "        vertical-align: top;\n",
       "    }\n",
       "\n",
       "    .dataframe thead th {\n",
       "        text-align: right;\n",
       "    }\n",
       "</style>\n",
       "<table border=\"1\" class=\"dataframe\">\n",
       "  <thead>\n",
       "    <tr style=\"text-align: right;\">\n",
       "      <th></th>\n",
       "      <th>feat1</th>\n",
       "      <th>feat2</th>\n",
       "      <th>feat3</th>\n",
       "      <th>feat4</th>\n",
       "      <th>feat5</th>\n",
       "      <th>feat6</th>\n",
       "      <th>label</th>\n",
       "    </tr>\n",
       "  </thead>\n",
       "  <tbody>\n",
       "    <tr>\n",
       "      <th>1775</th>\n",
       "      <td>0.580645</td>\n",
       "      <td>-5.356565</td>\n",
       "      <td>0.559900</td>\n",
       "      <td>0.707107</td>\n",
       "      <td>0.335801</td>\n",
       "      <td>0.550922</td>\n",
       "      <td>0.0</td>\n",
       "    </tr>\n",
       "    <tr>\n",
       "      <th>1720</th>\n",
       "      <td>0.387097</td>\n",
       "      <td>-5.141458</td>\n",
       "      <td>0.577500</td>\n",
       "      <td>0.667565</td>\n",
       "      <td>0.233419</td>\n",
       "      <td>0.570054</td>\n",
       "      <td>0.0</td>\n",
       "    </tr>\n",
       "    <tr>\n",
       "      <th>1714</th>\n",
       "      <td>0.247312</td>\n",
       "      <td>-6.459143</td>\n",
       "      <td>0.588662</td>\n",
       "      <td>0.651271</td>\n",
       "      <td>0.251836</td>\n",
       "      <td>0.541769</td>\n",
       "      <td>0.0</td>\n",
       "    </tr>\n",
       "    <tr>\n",
       "      <th>2151</th>\n",
       "      <td>0.612903</td>\n",
       "      <td>-7.619747</td>\n",
       "      <td>0.631154</td>\n",
       "      <td>0.724619</td>\n",
       "      <td>0.410149</td>\n",
       "      <td>0.534217</td>\n",
       "      <td>0.0</td>\n",
       "    </tr>\n",
       "    <tr>\n",
       "      <th>1209</th>\n",
       "      <td>0.365591</td>\n",
       "      <td>-2.838888</td>\n",
       "      <td>0.623113</td>\n",
       "      <td>0.566242</td>\n",
       "      <td>0.322288</td>\n",
       "      <td>0.416269</td>\n",
       "      <td>1.0</td>\n",
       "    </tr>\n",
       "    <tr>\n",
       "      <th>3075</th>\n",
       "      <td>0.741935</td>\n",
       "      <td>-1.818529</td>\n",
       "      <td>0.349508</td>\n",
       "      <td>0.491614</td>\n",
       "      <td>0.266329</td>\n",
       "      <td>0.366379</td>\n",
       "      <td>1.0</td>\n",
       "    </tr>\n",
       "    <tr>\n",
       "      <th>3006</th>\n",
       "      <td>0.344086</td>\n",
       "      <td>-3.941699</td>\n",
       "      <td>0.569812</td>\n",
       "      <td>0.626650</td>\n",
       "      <td>0.372049</td>\n",
       "      <td>0.453783</td>\n",
       "      <td>1.0</td>\n",
       "    </tr>\n",
       "    <tr>\n",
       "      <th>2937</th>\n",
       "      <td>0.290323</td>\n",
       "      <td>-1.638148</td>\n",
       "      <td>0.577500</td>\n",
       "      <td>0.619404</td>\n",
       "      <td>0.375280</td>\n",
       "      <td>0.445678</td>\n",
       "      <td>1.0</td>\n",
       "    </tr>\n",
       "  </tbody>\n",
       "</table>\n",
       "</div>"
      ],
      "text/plain": [
       "         feat1     feat2     feat3     feat4     feat5     feat6  label\n",
       "1775  0.580645 -5.356565  0.559900  0.707107  0.335801  0.550922    0.0\n",
       "1720  0.387097 -5.141458  0.577500  0.667565  0.233419  0.570054    0.0\n",
       "1714  0.247312 -6.459143  0.588662  0.651271  0.251836  0.541769    0.0\n",
       "2151  0.612903 -7.619747  0.631154  0.724619  0.410149  0.534217    0.0\n",
       "1209  0.365591 -2.838888  0.623113  0.566242  0.322288  0.416269    1.0\n",
       "3075  0.741935 -1.818529  0.349508  0.491614  0.266329  0.366379    1.0\n",
       "3006  0.344086 -3.941699  0.569812  0.626650  0.372049  0.453783    1.0\n",
       "2937  0.290323 -1.638148  0.577500  0.619404  0.375280  0.445678    1.0"
      ]
     },
     "execution_count": 24,
     "metadata": {},
     "output_type": "execute_result"
    }
   ],
   "source": [
    "train_df.groupby(\"label\").sample(4)"
   ]
  },
  {
   "cell_type": "code",
   "execution_count": 25,
   "metadata": {},
   "outputs": [
    {
     "data": {
      "text/html": [
       "<div>\n",
       "<style scoped>\n",
       "    .dataframe tbody tr th:only-of-type {\n",
       "        vertical-align: middle;\n",
       "    }\n",
       "\n",
       "    .dataframe tbody tr th {\n",
       "        vertical-align: top;\n",
       "    }\n",
       "\n",
       "    .dataframe thead th {\n",
       "        text-align: right;\n",
       "    }\n",
       "</style>\n",
       "<table border=\"1\" class=\"dataframe\">\n",
       "  <thead>\n",
       "    <tr style=\"text-align: right;\">\n",
       "      <th></th>\n",
       "      <th>feat1</th>\n",
       "      <th>feat2</th>\n",
       "      <th>feat3</th>\n",
       "      <th>feat4</th>\n",
       "      <th>feat5</th>\n",
       "      <th>feat6</th>\n",
       "      <th>label</th>\n",
       "    </tr>\n",
       "  </thead>\n",
       "  <tbody>\n",
       "    <tr>\n",
       "      <th>count</th>\n",
       "      <td>3772.000000</td>\n",
       "      <td>3.772000e+03</td>\n",
       "      <td>3772.000000</td>\n",
       "      <td>3772.000000</td>\n",
       "      <td>3772.000000</td>\n",
       "      <td>3772.000000</td>\n",
       "      <td>3772.000000</td>\n",
       "    </tr>\n",
       "    <tr>\n",
       "      <th>mean</th>\n",
       "      <td>0.543121</td>\n",
       "      <td>-6.259120e+00</td>\n",
       "      <td>0.562237</td>\n",
       "      <td>0.698270</td>\n",
       "      <td>0.317930</td>\n",
       "      <td>0.555497</td>\n",
       "      <td>0.024655</td>\n",
       "    </tr>\n",
       "    <tr>\n",
       "      <th>std</th>\n",
       "      <td>0.203790</td>\n",
       "      <td>1.987708e+00</td>\n",
       "      <td>0.074936</td>\n",
       "      <td>0.062767</td>\n",
       "      <td>0.061670</td>\n",
       "      <td>0.060938</td>\n",
       "      <td>0.155093</td>\n",
       "    </tr>\n",
       "    <tr>\n",
       "      <th>min</th>\n",
       "      <td>0.000000</td>\n",
       "      <td>-1.611810e+01</td>\n",
       "      <td>0.000000</td>\n",
       "      <td>0.000000</td>\n",
       "      <td>0.000000</td>\n",
       "      <td>0.000000</td>\n",
       "      <td>0.000000</td>\n",
       "    </tr>\n",
       "    <tr>\n",
       "      <th>25%</th>\n",
       "      <td>0.376344</td>\n",
       "      <td>-6.783614e+00</td>\n",
       "      <td>0.538949</td>\n",
       "      <td>0.671458</td>\n",
       "      <td>0.284155</td>\n",
       "      <td>0.530360</td>\n",
       "      <td>0.000000</td>\n",
       "    </tr>\n",
       "    <tr>\n",
       "      <th>50%</th>\n",
       "      <td>0.569892</td>\n",
       "      <td>-5.802840e+00</td>\n",
       "      <td>0.575597</td>\n",
       "      <td>0.701251</td>\n",
       "      <td>0.318880</td>\n",
       "      <td>0.558031</td>\n",
       "      <td>0.000000</td>\n",
       "    </tr>\n",
       "    <tr>\n",
       "      <th>75%</th>\n",
       "      <td>0.709677</td>\n",
       "      <td>-5.397386e+00</td>\n",
       "      <td>0.597651</td>\n",
       "      <td>0.729181</td>\n",
       "      <td>0.345818</td>\n",
       "      <td>0.581590</td>\n",
       "      <td>0.000000</td>\n",
       "    </tr>\n",
       "    <tr>\n",
       "      <th>max</th>\n",
       "      <td>1.000000</td>\n",
       "      <td>1.000000e-07</td>\n",
       "      <td>1.000000</td>\n",
       "      <td>1.000000</td>\n",
       "      <td>0.693147</td>\n",
       "      <td>1.000000</td>\n",
       "      <td>1.000000</td>\n",
       "    </tr>\n",
       "  </tbody>\n",
       "</table>\n",
       "</div>"
      ],
      "text/plain": [
       "             feat1         feat2        feat3        feat4        feat5  \\\n",
       "count  3772.000000  3.772000e+03  3772.000000  3772.000000  3772.000000   \n",
       "mean      0.543121 -6.259120e+00     0.562237     0.698270     0.317930   \n",
       "std       0.203790  1.987708e+00     0.074936     0.062767     0.061670   \n",
       "min       0.000000 -1.611810e+01     0.000000     0.000000     0.000000   \n",
       "25%       0.376344 -6.783614e+00     0.538949     0.671458     0.284155   \n",
       "50%       0.569892 -5.802840e+00     0.575597     0.701251     0.318880   \n",
       "75%       0.709677 -5.397386e+00     0.597651     0.729181     0.345818   \n",
       "max       1.000000  1.000000e-07     1.000000     1.000000     0.693147   \n",
       "\n",
       "             feat6        label  \n",
       "count  3772.000000  3772.000000  \n",
       "mean      0.555497     0.024655  \n",
       "std       0.060938     0.155093  \n",
       "min       0.000000     0.000000  \n",
       "25%       0.530360     0.000000  \n",
       "50%       0.558031     0.000000  \n",
       "75%       0.581590     0.000000  \n",
       "max       1.000000     1.000000  "
      ]
     },
     "execution_count": 25,
     "metadata": {},
     "output_type": "execute_result"
    }
   ],
   "source": [
    "train_df.describe()"
   ]
  },
  {
   "cell_type": "markdown",
   "metadata": {},
   "source": [
    "Split dataset into training and testing sets"
   ]
  },
  {
   "cell_type": "code",
   "execution_count": 26,
   "metadata": {},
   "outputs": [
    {
     "data": {
      "text/plain": [
       "((3017, 6), (755, 6))"
      ]
     },
     "execution_count": 26,
     "metadata": {},
     "output_type": "execute_result"
    }
   ],
   "source": [
    "X_train, X_test, y_train, y_test = train_test_split(train_df[features], train_df[\"label\"], stratify=train_df[\"label\"], random_state=0, test_size=0.2)\n",
    "\n",
    "X_train.shape, X_test.shape"
   ]
  },
  {
   "cell_type": "code",
   "execution_count": 27,
   "metadata": {},
   "outputs": [
    {
     "data": {
      "text/plain": [
       "0.0    2943\n",
       "1.0      74\n",
       "Name: label, dtype: int64"
      ]
     },
     "execution_count": 27,
     "metadata": {},
     "output_type": "execute_result"
    }
   ],
   "source": [
    "y_train.value_counts()"
   ]
  },
  {
   "cell_type": "code",
   "execution_count": 28,
   "metadata": {},
   "outputs": [
    {
     "data": {
      "text/plain": [
       "0.0    736\n",
       "1.0     19\n",
       "Name: label, dtype: int64"
      ]
     },
     "execution_count": 28,
     "metadata": {},
     "output_type": "execute_result"
    }
   ],
   "source": [
    "y_test.value_counts()"
   ]
  },
  {
   "cell_type": "markdown",
   "metadata": {},
   "source": [
    "## Density estimation method\n",
    "We will first apply :\n",
    "- Dentity on the all features\n",
    "- Dentity on the selected features\n",
    "- Dentity on PCA features"
   ]
  },
  {
   "cell_type": "code",
   "execution_count": 29,
   "metadata": {},
   "outputs": [],
   "source": [
    "from typing import Tuple\n",
    "\n",
    "\n",
    "def compute_mu_std(X_train: np.ndarray) -> Tuple[np.ndarray, np.ndarray]:\n",
    "    mu = np.mean(X_train, axis=0)\n",
    "    cov = np.cov(X_train, rowvar=0)\n",
    "    return mu, cov\n",
    "\n",
    "def multivariate_gaussian(X: np.ndarray, mu: np.ndarray, cov: np.ndarray):\n",
    "    \"\"\"\n",
    "        Computes the probability \n",
    "        density function of the examples X under the multivariate gaussian \n",
    "        distribution with parameters mu and var. If var is a matrix, it is\n",
    "        treated as the covariance matrix. If var is a vector, it is treated\n",
    "        as the var values of the variances in each dimension (a diagonal\n",
    "        covariance matrix\n",
    "    \"\"\"\n",
    "    \n",
    "    k = len(mu)\n",
    "    \n",
    "    if cov.ndim == 1:\n",
    "        cov = np.diag(cov)\n",
    "        \n",
    "    X = X - mu\n",
    "    p = (2 * np.pi)**(-k/2) * np.linalg.det(cov)**(-0.5) * \\\n",
    "        np.exp(-0.5 * np.sum(np.matmul(X, np.linalg.pinv(cov)) * X, axis=1))\n",
    "    \n",
    "    return p"
   ]
  },
  {
   "cell_type": "code",
   "execution_count": 30,
   "metadata": {},
   "outputs": [
    {
     "data": {
      "text/plain": [
       "((6,), (6, 6))"
      ]
     },
     "execution_count": 30,
     "metadata": {},
     "output_type": "execute_result"
    }
   ],
   "source": [
    "mu, var = compute_mu_std(X_train.values)\n",
    "\n",
    "mu.shape, var.shape"
   ]
  },
  {
   "cell_type": "code",
   "execution_count": 32,
   "metadata": {},
   "outputs": [
    {
     "name": "stdout",
     "output_type": "stream",
     "text": [
      "[[ 4.241e-02 -2.324e-02 -3.897e-03 -2.260e-04 -2.201e-03  9.244e-04]\n",
      " [-2.324e-02  4.029e+00 -3.860e-02 -5.094e-02  5.590e-03 -5.601e-02]\n",
      " [-3.897e-03 -3.860e-02  5.642e-03  2.383e-03  1.780e-03  1.445e-03]\n",
      " [-2.260e-04 -5.094e-02  2.383e-03  3.851e-03  1.338e-03  3.171e-03]\n",
      " [-2.201e-03  5.590e-03  1.780e-03  1.338e-03  3.798e-03 -7.102e-04]\n",
      " [ 9.244e-04 -5.601e-02  1.445e-03  3.171e-03 -7.102e-04  3.684e-03]]\n"
     ]
    }
   ],
   "source": [
    "np.set_printoptions(3)\n",
    "print(var)"
   ]
  },
  {
   "cell_type": "code",
   "execution_count": 33,
   "metadata": {},
   "outputs": [
    {
     "name": "stdout",
     "output_type": "stream",
     "text": [
      "[ 0.542 -6.257  0.563  0.699  0.318  0.556]\n"
     ]
    }
   ],
   "source": [
    "print(mu)"
   ]
  },
  {
   "cell_type": "code",
   "execution_count": 34,
   "metadata": {},
   "outputs": [
    {
     "data": {
      "text/plain": [
       "(755,)"
      ]
     },
     "execution_count": 34,
     "metadata": {},
     "output_type": "execute_result"
    }
   ],
   "source": [
    "density = multivariate_gaussian(X_test.values, mu, var)\n",
    "density.shape"
   ]
  },
  {
   "cell_type": "code",
   "execution_count": 35,
   "metadata": {},
   "outputs": [
    {
     "data": {
      "text/plain": [
       "(3017,)"
      ]
     },
     "execution_count": 35,
     "metadata": {},
     "output_type": "execute_result"
    }
   ],
   "source": [
    "train_density = multivariate_gaussian(X_train.values, mu, var)\n",
    "train_density.shape"
   ]
  },
  {
   "cell_type": "markdown",
   "metadata": {},
   "source": [
    "## Threshold selection criteria"
   ]
  },
  {
   "cell_type": "code",
   "execution_count": 36,
   "metadata": {},
   "outputs": [],
   "source": [
    "from sklearn.metrics import f1_score\n",
    "\n",
    "def compute_score(y_val, y_pred):\n",
    "    \"\"\"\n",
    "        Compute f1_score\n",
    "        tp = np.mean(preds & (y_val==1))\n",
    "        fp = np.mean(preds & (y_val==0))\n",
    "        tn = np.mean(~preds & (y_val==0))\n",
    "        fn = np.mean(~preds & (y_val==1))\n",
    "        \n",
    "        prec = tp / (tp + fp + 1e-10)\n",
    "        rec = tp / (tp + fn + 1e-10)\n",
    "        F1 = 2 * prec * rec / (prec + rec + 1e-10)\n",
    "    \"\"\"\n",
    "    return f1_score(y_val, y_pred)"
   ]
  },
  {
   "cell_type": "code",
   "execution_count": 37,
   "metadata": {},
   "outputs": [],
   "source": [
    "def select_threshold(y_val, p_val): \n",
    "    \"\"\"\n",
    "    Finds the best threshold to use for selecting outliers \n",
    "    based on the results from a validation set (p_val) \n",
    "    and the ground truth (y_val)\n",
    "    \n",
    "    Args:\n",
    "        y_val (ndarray): Ground truth on validation set\n",
    "        p_val (ndarray): Results on validation set\n",
    "        \n",
    "    Returns:\n",
    "        epsilon (float): Threshold chosen \n",
    "        F1 (float):      F1 score by choosing epsilon as threshold\n",
    "    \"\"\" \n",
    "\n",
    "    best_epsilon = 0\n",
    "    best_F1 = 0\n",
    "    F1 = 0\n",
    "    \n",
    "    step_size = (max(p_val) - min(p_val)) / 1000\n",
    "\n",
    "    accs = 0\n",
    "    \n",
    "    for epsilon in np.arange(min(p_val), max(p_val), step_size):\n",
    "        preds = p_val < epsilon\n",
    "        \n",
    "        F1 = compute_score(y_val, preds)\n",
    "\n",
    "        acc = np.mean(preds == y_val)\n",
    "        \n",
    "        if F1 > best_F1:\n",
    "            best_F1 = F1\n",
    "            best_epsilon = epsilon\n",
    "            accs = acc\n",
    "        \n",
    "    return best_epsilon, best_F1, accs"
   ]
  },
  {
   "cell_type": "code",
   "execution_count": 38,
   "metadata": {},
   "outputs": [
    {
     "name": "stdout",
     "output_type": "stream",
     "text": [
      "The optimal  threshold is: 20.84409798139144\n",
      "The optimal f1_score is: 0.27450980392156865\n",
      "The accuracy is: 0.91415313225058\n"
     ]
    }
   ],
   "source": [
    "epsilon, score, accuracy = select_threshold(y_train.values, train_density)\n",
    "\n",
    "print(\"The optimal  threshold is:\", epsilon)\n",
    "print(\"The optimal f1_score is:\", score)\n",
    "print(\"The accuracy is:\", accuracy)"
   ]
  },
  {
   "cell_type": "markdown",
   "metadata": {},
   "source": [
    "We will use the computed value of epsilon to determine anomaly in test set"
   ]
  },
  {
   "cell_type": "code",
   "execution_count": 39,
   "metadata": {},
   "outputs": [
    {
     "data": {
      "text/plain": [
       "0.3488372093023256"
      ]
     },
     "execution_count": 39,
     "metadata": {},
     "output_type": "execute_result"
    }
   ],
   "source": [
    "test_score = compute_score(y_test.values, density < epsilon)\n",
    "\n",
    "test_score"
   ]
  },
  {
   "cell_type": "markdown",
   "metadata": {},
   "source": [
    "## Using SKLEARN Implementation"
   ]
  },
  {
   "cell_type": "code",
   "execution_count": 44,
   "metadata": {},
   "outputs": [],
   "source": [
    "from sklearn.neighbors import KernelDensity\n",
    "\n",
    "kde = KernelDensity(kernel='gaussian', bandwidth=0.2)"
   ]
  },
  {
   "cell_type": "code",
   "execution_count": 45,
   "metadata": {},
   "outputs": [
    {
     "name": "stdout",
     "output_type": "stream",
     "text": [
      "The optimal  threshold is: -1.4659726131768802\n",
      "The optimal f1_score is: 0.6321243523316061\n",
      "The accuracy is: 0.9764666887636725\n"
     ]
    }
   ],
   "source": [
    "kde.fit(X_train)\n",
    "\n",
    "probs = kde.score_samples(X_train)\n",
    "\n",
    "epsilon, score, accuracy = select_threshold(y_train.values, probs)\n",
    "\n",
    "print(\"The optimal  threshold is:\", epsilon)\n",
    "print(\"The optimal f1_score is:\", score)\n",
    "print(\"The accuracy is:\", accuracy)"
   ]
  },
  {
   "cell_type": "code",
   "execution_count": 47,
   "metadata": {},
   "outputs": [
    {
     "data": {
      "text/plain": [
       "0.7111111111111111"
      ]
     },
     "execution_count": 47,
     "metadata": {},
     "output_type": "execute_result"
    }
   ],
   "source": [
    "density = kde.score_samples(X_test)\n",
    "\n",
    "test_score = compute_score(y_test.values, density < epsilon)\n",
    "\n",
    "test_score"
   ]
  },
  {
   "cell_type": "markdown",
   "metadata": {},
   "source": [
    "## Select features before estimation"
   ]
  },
  {
   "cell_type": "code",
   "execution_count": 48,
   "metadata": {},
   "outputs": [
    {
     "data": {
      "text/plain": [
       "2597    0.0\n",
       "3761    0.0\n",
       "2649    0.0\n",
       "3257    0.0\n",
       "629     0.0\n",
       "Name: label, dtype: float64"
      ]
     },
     "execution_count": 48,
     "metadata": {},
     "output_type": "execute_result"
    }
   ],
   "source": [
    "y_train.head()"
   ]
  },
  {
   "cell_type": "code",
   "execution_count": 49,
   "metadata": {},
   "outputs": [
    {
     "data": {
      "text/html": [
       "<div>\n",
       "<style scoped>\n",
       "    .dataframe tbody tr th:only-of-type {\n",
       "        vertical-align: middle;\n",
       "    }\n",
       "\n",
       "    .dataframe tbody tr th {\n",
       "        vertical-align: top;\n",
       "    }\n",
       "\n",
       "    .dataframe thead th {\n",
       "        text-align: right;\n",
       "    }\n",
       "</style>\n",
       "<table border=\"1\" class=\"dataframe\">\n",
       "  <thead>\n",
       "    <tr style=\"text-align: right;\">\n",
       "      <th></th>\n",
       "      <th>feat1</th>\n",
       "      <th>feat2</th>\n",
       "      <th>feat3</th>\n",
       "      <th>feat4</th>\n",
       "      <th>feat5</th>\n",
       "      <th>feat6</th>\n",
       "    </tr>\n",
       "  </thead>\n",
       "  <tbody>\n",
       "    <tr>\n",
       "      <th>2597</th>\n",
       "      <td>0.204301</td>\n",
       "      <td>-6.629476</td>\n",
       "      <td>0.606377</td>\n",
       "      <td>0.713625</td>\n",
       "      <td>0.431721</td>\n",
       "      <td>0.512265</td>\n",
       "    </tr>\n",
       "    <tr>\n",
       "      <th>3761</th>\n",
       "      <td>0.268817</td>\n",
       "      <td>-8.797943</td>\n",
       "      <td>0.538949</td>\n",
       "      <td>0.796198</td>\n",
       "      <td>0.397610</td>\n",
       "      <td>0.612256</td>\n",
       "    </tr>\n",
       "    <tr>\n",
       "      <th>2649</th>\n",
       "      <td>0.763441</td>\n",
       "      <td>-7.189035</td>\n",
       "      <td>0.491311</td>\n",
       "      <td>0.675284</td>\n",
       "      <td>0.329067</td>\n",
       "      <td>0.522472</td>\n",
       "    </tr>\n",
       "    <tr>\n",
       "      <th>3257</th>\n",
       "      <td>0.763441</td>\n",
       "      <td>-4.586468</td>\n",
       "      <td>0.448361</td>\n",
       "      <td>0.642643</td>\n",
       "      <td>0.259109</td>\n",
       "      <td>0.528410</td>\n",
       "    </tr>\n",
       "    <tr>\n",
       "      <th>629</th>\n",
       "      <td>0.946237</td>\n",
       "      <td>-6.378179</td>\n",
       "      <td>0.606377</td>\n",
       "      <td>0.700404</td>\n",
       "      <td>0.305135</td>\n",
       "      <td>0.561519</td>\n",
       "    </tr>\n",
       "  </tbody>\n",
       "</table>\n",
       "</div>"
      ],
      "text/plain": [
       "         feat1     feat2     feat3     feat4     feat5     feat6\n",
       "2597  0.204301 -6.629476  0.606377  0.713625  0.431721  0.512265\n",
       "3761  0.268817 -8.797943  0.538949  0.796198  0.397610  0.612256\n",
       "2649  0.763441 -7.189035  0.491311  0.675284  0.329067  0.522472\n",
       "3257  0.763441 -4.586468  0.448361  0.642643  0.259109  0.528410\n",
       "629   0.946237 -6.378179  0.606377  0.700404  0.305135  0.561519"
      ]
     },
     "execution_count": 49,
     "metadata": {},
     "output_type": "execute_result"
    }
   ],
   "source": [
    "X_train.head()"
   ]
  },
  {
   "cell_type": "code",
   "execution_count": 50,
   "metadata": {},
   "outputs": [
    {
     "data": {
      "text/html": [
       "<div>\n",
       "<style scoped>\n",
       "    .dataframe tbody tr th:only-of-type {\n",
       "        vertical-align: middle;\n",
       "    }\n",
       "\n",
       "    .dataframe tbody tr th {\n",
       "        vertical-align: top;\n",
       "    }\n",
       "\n",
       "    .dataframe thead th {\n",
       "        text-align: right;\n",
       "    }\n",
       "</style>\n",
       "<table border=\"1\" class=\"dataframe\">\n",
       "  <thead>\n",
       "    <tr style=\"text-align: right;\">\n",
       "      <th></th>\n",
       "      <th>feat1</th>\n",
       "      <th>feat2</th>\n",
       "      <th>feat3</th>\n",
       "      <th>feat4</th>\n",
       "      <th>feat5</th>\n",
       "      <th>feat6</th>\n",
       "      <th>Label</th>\n",
       "    </tr>\n",
       "  </thead>\n",
       "  <tbody>\n",
       "    <tr>\n",
       "      <th>count</th>\n",
       "      <td>3017.000000</td>\n",
       "      <td>3.017000e+03</td>\n",
       "      <td>3017.000000</td>\n",
       "      <td>3017.000000</td>\n",
       "      <td>3017.000000</td>\n",
       "      <td>3017.000000</td>\n",
       "      <td>3017.000000</td>\n",
       "    </tr>\n",
       "    <tr>\n",
       "      <th>mean</th>\n",
       "      <td>0.542458</td>\n",
       "      <td>-6.256775e+00</td>\n",
       "      <td>0.562929</td>\n",
       "      <td>0.698744</td>\n",
       "      <td>0.318358</td>\n",
       "      <td>0.555741</td>\n",
       "      <td>0.024528</td>\n",
       "    </tr>\n",
       "    <tr>\n",
       "      <th>std</th>\n",
       "      <td>0.205946</td>\n",
       "      <td>2.007333e+00</td>\n",
       "      <td>0.075114</td>\n",
       "      <td>0.062057</td>\n",
       "      <td>0.061627</td>\n",
       "      <td>0.060693</td>\n",
       "      <td>0.154706</td>\n",
       "    </tr>\n",
       "    <tr>\n",
       "      <th>min</th>\n",
       "      <td>0.000000</td>\n",
       "      <td>-1.611810e+01</td>\n",
       "      <td>0.000000</td>\n",
       "      <td>0.000000</td>\n",
       "      <td>0.000000</td>\n",
       "      <td>0.000000</td>\n",
       "      <td>0.000000</td>\n",
       "    </tr>\n",
       "    <tr>\n",
       "      <th>25%</th>\n",
       "      <td>0.376344</td>\n",
       "      <td>-6.783614e+00</td>\n",
       "      <td>0.538949</td>\n",
       "      <td>0.671458</td>\n",
       "      <td>0.284155</td>\n",
       "      <td>0.530360</td>\n",
       "      <td>0.000000</td>\n",
       "    </tr>\n",
       "    <tr>\n",
       "      <th>50%</th>\n",
       "      <td>0.569892</td>\n",
       "      <td>-5.802840e+00</td>\n",
       "      <td>0.575597</td>\n",
       "      <td>0.702097</td>\n",
       "      <td>0.318880</td>\n",
       "      <td>0.558031</td>\n",
       "      <td>0.000000</td>\n",
       "    </tr>\n",
       "    <tr>\n",
       "      <th>75%</th>\n",
       "      <td>0.709677</td>\n",
       "      <td>-5.397386e+00</td>\n",
       "      <td>0.597651</td>\n",
       "      <td>0.727670</td>\n",
       "      <td>0.345818</td>\n",
       "      <td>0.581590</td>\n",
       "      <td>0.000000</td>\n",
       "    </tr>\n",
       "    <tr>\n",
       "      <th>max</th>\n",
       "      <td>1.000000</td>\n",
       "      <td>1.000000e-07</td>\n",
       "      <td>1.000000</td>\n",
       "      <td>1.000000</td>\n",
       "      <td>0.693147</td>\n",
       "      <td>1.000000</td>\n",
       "      <td>1.000000</td>\n",
       "    </tr>\n",
       "  </tbody>\n",
       "</table>\n",
       "</div>"
      ],
      "text/plain": [
       "             feat1         feat2        feat3        feat4        feat5  \\\n",
       "count  3017.000000  3.017000e+03  3017.000000  3017.000000  3017.000000   \n",
       "mean      0.542458 -6.256775e+00     0.562929     0.698744     0.318358   \n",
       "std       0.205946  2.007333e+00     0.075114     0.062057     0.061627   \n",
       "min       0.000000 -1.611810e+01     0.000000     0.000000     0.000000   \n",
       "25%       0.376344 -6.783614e+00     0.538949     0.671458     0.284155   \n",
       "50%       0.569892 -5.802840e+00     0.575597     0.702097     0.318880   \n",
       "75%       0.709677 -5.397386e+00     0.597651     0.727670     0.345818   \n",
       "max       1.000000  1.000000e-07     1.000000     1.000000     0.693147   \n",
       "\n",
       "             feat6        Label  \n",
       "count  3017.000000  3017.000000  \n",
       "mean      0.555741     0.024528  \n",
       "std       0.060693     0.154706  \n",
       "min       0.000000     0.000000  \n",
       "25%       0.530360     0.000000  \n",
       "50%       0.558031     0.000000  \n",
       "75%       0.581590     0.000000  \n",
       "max       1.000000     1.000000  "
      ]
     },
     "execution_count": 50,
     "metadata": {},
     "output_type": "execute_result"
    }
   ],
   "source": [
    "data = X_train.copy()\n",
    "data[\"Label\"] = y_train\n",
    "\n",
    "data.describe()"
   ]
  },
  {
   "cell_type": "code",
   "execution_count": 51,
   "metadata": {},
   "outputs": [
    {
     "data": {
      "text/html": [
       "<style type=\"text/css\">\n",
       "#T_f4503_row0_col0, #T_f4503_row1_col1, #T_f4503_row2_col2, #T_f4503_row3_col3, #T_f4503_row4_col4, #T_f4503_row5_col5, #T_f4503_row6_col6 {\n",
       "  background-color: #08306b;\n",
       "  color: #f1f1f1;\n",
       "}\n",
       "#T_f4503_row0_col1 {\n",
       "  background-color: #f5fafe;\n",
       "  color: #000000;\n",
       "}\n",
       "#T_f4503_row0_col2, #T_f4503_row0_col3, #T_f4503_row0_col5, #T_f4503_row0_col6, #T_f4503_row1_col4, #T_f4503_row4_col1, #T_f4503_row6_col0, #T_f4503_row6_col4 {\n",
       "  background-color: #f7fbff;\n",
       "  color: #000000;\n",
       "}\n",
       "#T_f4503_row0_col4 {\n",
       "  background-color: #dceaf6;\n",
       "  color: #000000;\n",
       "}\n",
       "#T_f4503_row1_col0, #T_f4503_row6_col2 {\n",
       "  background-color: #eef5fc;\n",
       "  color: #000000;\n",
       "}\n",
       "#T_f4503_row1_col2, #T_f4503_row3_col0 {\n",
       "  background-color: #f6faff;\n",
       "  color: #000000;\n",
       "}\n",
       "#T_f4503_row1_col3 {\n",
       "  background-color: #95c5df;\n",
       "  color: #000000;\n",
       "}\n",
       "#T_f4503_row1_col5 {\n",
       "  background-color: #8dc1dd;\n",
       "  color: #000000;\n",
       "}\n",
       "#T_f4503_row1_col6 {\n",
       "  background-color: #b3d3e8;\n",
       "  color: #000000;\n",
       "}\n",
       "#T_f4503_row2_col0 {\n",
       "  background-color: #c7dcef;\n",
       "  color: #000000;\n",
       "}\n",
       "#T_f4503_row2_col1 {\n",
       "  background-color: #ccdff1;\n",
       "  color: #000000;\n",
       "}\n",
       "#T_f4503_row2_col3 {\n",
       "  background-color: #6aaed6;\n",
       "  color: #f1f1f1;\n",
       "}\n",
       "#T_f4503_row2_col4 {\n",
       "  background-color: #a4cce3;\n",
       "  color: #000000;\n",
       "}\n",
       "#T_f4503_row2_col5 {\n",
       "  background-color: #c2d9ee;\n",
       "  color: #000000;\n",
       "}\n",
       "#T_f4503_row2_col6 {\n",
       "  background-color: #bdd7ec;\n",
       "  color: #000000;\n",
       "}\n",
       "#T_f4503_row3_col1 {\n",
       "  background-color: #9cc9e1;\n",
       "  color: #000000;\n",
       "}\n",
       "#T_f4503_row3_col2 {\n",
       "  background-color: #a8cee4;\n",
       "  color: #000000;\n",
       "}\n",
       "#T_f4503_row3_col4 {\n",
       "  background-color: #b0d2e7;\n",
       "  color: #000000;\n",
       "}\n",
       "#T_f4503_row3_col5 {\n",
       "  background-color: #115ca5;\n",
       "  color: #f1f1f1;\n",
       "}\n",
       "#T_f4503_row3_col6, #T_f4503_row6_col3 {\n",
       "  background-color: #66abd4;\n",
       "  color: #f1f1f1;\n",
       "}\n",
       "#T_f4503_row4_col0 {\n",
       "  background-color: #d6e6f4;\n",
       "  color: #000000;\n",
       "}\n",
       "#T_f4503_row4_col2 {\n",
       "  background-color: #d4e4f4;\n",
       "  color: #000000;\n",
       "}\n",
       "#T_f4503_row4_col3 {\n",
       "  background-color: #aacfe5;\n",
       "  color: #000000;\n",
       "}\n",
       "#T_f4503_row4_col5 {\n",
       "  background-color: #deebf7;\n",
       "  color: #000000;\n",
       "}\n",
       "#T_f4503_row4_col6 {\n",
       "  background-color: #f0f6fd;\n",
       "  color: #000000;\n",
       "}\n",
       "#T_f4503_row5_col0 {\n",
       "  background-color: #eaf3fb;\n",
       "  color: #000000;\n",
       "}\n",
       "#T_f4503_row5_col1 {\n",
       "  background-color: #85bcdc;\n",
       "  color: #000000;\n",
       "}\n",
       "#T_f4503_row5_col2 {\n",
       "  background-color: #e6f0f9;\n",
       "  color: #000000;\n",
       "}\n",
       "#T_f4503_row5_col3 {\n",
       "  background-color: #0f5aa3;\n",
       "  color: #f1f1f1;\n",
       "}\n",
       "#T_f4503_row5_col4 {\n",
       "  background-color: #d9e8f5;\n",
       "  color: #000000;\n",
       "}\n",
       "#T_f4503_row5_col6 {\n",
       "  background-color: #5fa6d1;\n",
       "  color: #f1f1f1;\n",
       "}\n",
       "#T_f4503_row6_col1 {\n",
       "  background-color: #bad6eb;\n",
       "  color: #000000;\n",
       "}\n",
       "#T_f4503_row6_col5 {\n",
       "  background-color: #69add5;\n",
       "  color: #f1f1f1;\n",
       "}\n",
       "</style>\n",
       "<table id=\"T_f4503\">\n",
       "  <thead>\n",
       "    <tr>\n",
       "      <th class=\"blank level0\" >&nbsp;</th>\n",
       "      <th id=\"T_f4503_level0_col0\" class=\"col_heading level0 col0\" >feat1</th>\n",
       "      <th id=\"T_f4503_level0_col1\" class=\"col_heading level0 col1\" >feat2</th>\n",
       "      <th id=\"T_f4503_level0_col2\" class=\"col_heading level0 col2\" >feat3</th>\n",
       "      <th id=\"T_f4503_level0_col3\" class=\"col_heading level0 col3\" >feat4</th>\n",
       "      <th id=\"T_f4503_level0_col4\" class=\"col_heading level0 col4\" >feat5</th>\n",
       "      <th id=\"T_f4503_level0_col5\" class=\"col_heading level0 col5\" >feat6</th>\n",
       "      <th id=\"T_f4503_level0_col6\" class=\"col_heading level0 col6\" >Label</th>\n",
       "    </tr>\n",
       "  </thead>\n",
       "  <tbody>\n",
       "    <tr>\n",
       "      <th id=\"T_f4503_level0_row0\" class=\"row_heading level0 row0\" >feat1</th>\n",
       "      <td id=\"T_f4503_row0_col0\" class=\"data row0 col0\" >1.000000</td>\n",
       "      <td id=\"T_f4503_row0_col1\" class=\"data row0 col1\" >0.056208</td>\n",
       "      <td id=\"T_f4503_row0_col2\" class=\"data row0 col2\" >0.251900</td>\n",
       "      <td id=\"T_f4503_row0_col3\" class=\"data row0 col3\" >0.017682</td>\n",
       "      <td id=\"T_f4503_row0_col4\" class=\"data row0 col4\" >0.173384</td>\n",
       "      <td id=\"T_f4503_row0_col5\" class=\"data row0 col5\" >0.073955</td>\n",
       "      <td id=\"T_f4503_row0_col6\" class=\"data row0 col6\" >0.010205</td>\n",
       "    </tr>\n",
       "    <tr>\n",
       "      <th id=\"T_f4503_level0_row1\" class=\"row_heading level0 row1\" >feat2</th>\n",
       "      <td id=\"T_f4503_row1_col0\" class=\"data row1 col0\" >0.056208</td>\n",
       "      <td id=\"T_f4503_row1_col1\" class=\"data row1 col1\" >1.000000</td>\n",
       "      <td id=\"T_f4503_row1_col2\" class=\"data row1 col2\" >0.255986</td>\n",
       "      <td id=\"T_f4503_row1_col3\" class=\"data row1 col3\" >0.408896</td>\n",
       "      <td id=\"T_f4503_row1_col4\" class=\"data row1 col4\" >0.045185</td>\n",
       "      <td id=\"T_f4503_row1_col5\" class=\"data row1 col5\" >0.459733</td>\n",
       "      <td id=\"T_f4503_row1_col6\" class=\"data row1 col6\" >0.318085</td>\n",
       "    </tr>\n",
       "    <tr>\n",
       "      <th id=\"T_f4503_level0_row2\" class=\"row_heading level0 row2\" >feat3</th>\n",
       "      <td id=\"T_f4503_row2_col0\" class=\"data row2 col0\" >0.251900</td>\n",
       "      <td id=\"T_f4503_row2_col1\" class=\"data row2 col1\" >0.255986</td>\n",
       "      <td id=\"T_f4503_row2_col2\" class=\"data row2 col2\" >1.000000</td>\n",
       "      <td id=\"T_f4503_row2_col3\" class=\"data row2 col3\" >0.511330</td>\n",
       "      <td id=\"T_f4503_row2_col4\" class=\"data row2 col4\" >0.384605</td>\n",
       "      <td id=\"T_f4503_row2_col5\" class=\"data row2 col5\" >0.316995</td>\n",
       "      <td id=\"T_f4503_row2_col6\" class=\"data row2 col6\" >0.287277</td>\n",
       "    </tr>\n",
       "    <tr>\n",
       "      <th id=\"T_f4503_level0_row3\" class=\"row_heading level0 row3\" >feat4</th>\n",
       "      <td id=\"T_f4503_row3_col0\" class=\"data row3 col0\" >0.017682</td>\n",
       "      <td id=\"T_f4503_row3_col1\" class=\"data row3 col1\" >0.408896</td>\n",
       "      <td id=\"T_f4503_row3_col2\" class=\"data row3 col2\" >0.511330</td>\n",
       "      <td id=\"T_f4503_row3_col3\" class=\"data row3 col3\" >1.000000</td>\n",
       "      <td id=\"T_f4503_row3_col4\" class=\"data row3 col4\" >0.349734</td>\n",
       "      <td id=\"T_f4503_row3_col5\" class=\"data row3 col5\" >0.842037</td>\n",
       "      <td id=\"T_f4503_row3_col6\" class=\"data row3 col6\" >0.520554</td>\n",
       "    </tr>\n",
       "    <tr>\n",
       "      <th id=\"T_f4503_level0_row4\" class=\"row_heading level0 row4\" >feat5</th>\n",
       "      <td id=\"T_f4503_row4_col0\" class=\"data row4 col0\" >0.173384</td>\n",
       "      <td id=\"T_f4503_row4_col1\" class=\"data row4 col1\" >0.045185</td>\n",
       "      <td id=\"T_f4503_row4_col2\" class=\"data row4 col2\" >0.384605</td>\n",
       "      <td id=\"T_f4503_row4_col3\" class=\"data row4 col3\" >0.349734</td>\n",
       "      <td id=\"T_f4503_row4_col4\" class=\"data row4 col4\" >1.000000</td>\n",
       "      <td id=\"T_f4503_row4_col5\" class=\"data row4 col5\" >0.189874</td>\n",
       "      <td id=\"T_f4503_row4_col6\" class=\"data row4 col6\" >0.048133</td>\n",
       "    </tr>\n",
       "    <tr>\n",
       "      <th id=\"T_f4503_level0_row5\" class=\"row_heading level0 row5\" >feat6</th>\n",
       "      <td id=\"T_f4503_row5_col0\" class=\"data row5 col0\" >0.073955</td>\n",
       "      <td id=\"T_f4503_row5_col1\" class=\"data row5 col1\" >0.459733</td>\n",
       "      <td id=\"T_f4503_row5_col2\" class=\"data row5 col2\" >0.316995</td>\n",
       "      <td id=\"T_f4503_row5_col3\" class=\"data row5 col3\" >0.842037</td>\n",
       "      <td id=\"T_f4503_row5_col4\" class=\"data row5 col4\" >0.189874</td>\n",
       "      <td id=\"T_f4503_row5_col5\" class=\"data row5 col5\" >1.000000</td>\n",
       "      <td id=\"T_f4503_row5_col6\" class=\"data row5 col6\" >0.541157</td>\n",
       "    </tr>\n",
       "    <tr>\n",
       "      <th id=\"T_f4503_level0_row6\" class=\"row_heading level0 row6\" >Label</th>\n",
       "      <td id=\"T_f4503_row6_col0\" class=\"data row6 col0\" >0.010205</td>\n",
       "      <td id=\"T_f4503_row6_col1\" class=\"data row6 col1\" >0.318085</td>\n",
       "      <td id=\"T_f4503_row6_col2\" class=\"data row6 col2\" >0.287277</td>\n",
       "      <td id=\"T_f4503_row6_col3\" class=\"data row6 col3\" >0.520554</td>\n",
       "      <td id=\"T_f4503_row6_col4\" class=\"data row6 col4\" >0.048133</td>\n",
       "      <td id=\"T_f4503_row6_col5\" class=\"data row6 col5\" >0.541157</td>\n",
       "      <td id=\"T_f4503_row6_col6\" class=\"data row6 col6\" >1.000000</td>\n",
       "    </tr>\n",
       "  </tbody>\n",
       "</table>\n"
      ],
      "text/plain": [
       "<pandas.io.formats.style.Styler at 0x7f875bfad640>"
      ]
     },
     "execution_count": 51,
     "metadata": {},
     "output_type": "execute_result"
    }
   ],
   "source": [
    "data.corr().abs().style.background_gradient(\"Blues\")"
   ]
  },
  {
   "cell_type": "markdown",
   "metadata": {},
   "source": [
    "features 6 and 4 are highly correlated, keeps 6 due to it better correlation with Label\n",
    "\n",
    "Very low correlation between features 1, 5 and Label. We will remove it "
   ]
  },
  {
   "cell_type": "code",
   "execution_count": 52,
   "metadata": {},
   "outputs": [
    {
     "data": {
      "text/plain": [
       "((3017, 3), (755, 3))"
      ]
     },
     "execution_count": 52,
     "metadata": {},
     "output_type": "execute_result"
    }
   ],
   "source": [
    "X_train_selected = X_train.drop(columns=[features[0], features[3], features[4]])\n",
    "X_test_selected = X_test.drop(columns=[features[0], features[3], features[4]])\n",
    "\n",
    "\n",
    "X_train_selected.shape, X_test_selected.shape"
   ]
  },
  {
   "cell_type": "code",
   "execution_count": 53,
   "metadata": {},
   "outputs": [],
   "source": [
    "kde = KernelDensity(kernel='gaussian', bandwidth=0.2).fit(X_train_selected)\n",
    "\n",
    "train_density = kde.score_samples(X_train_selected)\n",
    "test_density = kde.score_samples(X_test_selected)"
   ]
  },
  {
   "cell_type": "code",
   "execution_count": 54,
   "metadata": {},
   "outputs": [
    {
     "name": "stdout",
     "output_type": "stream",
     "text": [
      "The optimal  threshold is: -2.8977831334598374\n",
      "The optimal f1_score is: 0.7088607594936708\n",
      "The accuracy is: 0.9847530659595625\n"
     ]
    }
   ],
   "source": [
    "epsilon, score, accuracy = select_threshold(y_train.values, train_density)\n",
    "\n",
    "print(\"The optimal  threshold is:\", epsilon)\n",
    "print(\"The optimal f1_score is:\", score)\n",
    "print(\"The accuracy is:\", accuracy)"
   ]
  },
  {
   "cell_type": "code",
   "execution_count": 55,
   "metadata": {},
   "outputs": [
    {
     "name": "stdout",
     "output_type": "stream",
     "text": [
      "F1-score when selecting features: 0.7500000000000001\n"
     ]
    }
   ],
   "source": [
    "test_score = compute_score(y_test.values, test_density < epsilon)\n",
    "\n",
    "print(\"F1-score when selecting features:\", test_score)"
   ]
  },
  {
   "cell_type": "markdown",
   "metadata": {},
   "source": [
    "Some improvements from 71 to 75"
   ]
  },
  {
   "cell_type": "markdown",
   "metadata": {},
   "source": [
    "## Compare Features selections with PCA 3 components"
   ]
  },
  {
   "cell_type": "code",
   "execution_count": 57,
   "metadata": {},
   "outputs": [
    {
     "data": {
      "text/plain": [
       "((3017, 3), (755, 3))"
      ]
     },
     "execution_count": 57,
     "metadata": {},
     "output_type": "execute_result"
    }
   ],
   "source": [
    "pca = PCA(n_components=3)\n",
    "\n",
    "X_train_selected = pca.fit_transform(X_train)\n",
    "X_test_selected = pca.transform(X_test)\n",
    "\n",
    "\n",
    "X_train_selected.shape, X_test_selected.shape"
   ]
  },
  {
   "cell_type": "code",
   "execution_count": 58,
   "metadata": {},
   "outputs": [],
   "source": [
    "kde = KernelDensity(kernel='gaussian', bandwidth=0.2).fit(X_train_selected)\n",
    "\n",
    "train_density = kde.score_samples(X_train_selected)\n",
    "test_density = kde.score_samples(X_test_selected)"
   ]
  },
  {
   "cell_type": "code",
   "execution_count": 59,
   "metadata": {},
   "outputs": [
    {
     "name": "stdout",
     "output_type": "stream",
     "text": [
      "The optimal  threshold is: -3.6740931080245396\n",
      "The optimal f1_score is: 0.689655172413793\n",
      "The accuracy is: 0.9850845210473981\n"
     ]
    }
   ],
   "source": [
    "epsilon, score, accuracy = select_threshold(y_train.values, train_density)\n",
    "\n",
    "print(\"The optimal  threshold is:\", epsilon)\n",
    "print(\"The optimal f1_score is:\", score)\n",
    "print(\"The accuracy is:\", accuracy)"
   ]
  },
  {
   "cell_type": "code",
   "execution_count": 60,
   "metadata": {},
   "outputs": [
    {
     "name": "stdout",
     "output_type": "stream",
     "text": [
      "F1-score when selecting features: 0.6842105263157895\n"
     ]
    }
   ],
   "source": [
    "test_score = compute_score(y_test.values, test_density < epsilon)\n",
    "\n",
    "print(\"F1-score when selecting features:\", test_score)"
   ]
  },
  {
   "cell_type": "markdown",
   "metadata": {},
   "source": [
    "No improvement, poor score"
   ]
  },
  {
   "cell_type": "markdown",
   "metadata": {},
   "source": [
    "## LOF implementation of sklearn"
   ]
  },
  {
   "cell_type": "code",
   "execution_count": 61,
   "metadata": {},
   "outputs": [],
   "source": [
    "from sklearn.neighbors import LocalOutlierFactor"
   ]
  },
  {
   "cell_type": "code",
   "execution_count": 62,
   "metadata": {},
   "outputs": [],
   "source": [
    "def fit_find_predict(model, X_train, y_train, X_test, y_test):\n",
    "    \"\"\"\n",
    "    Fit a model to the data and return the predictions\n",
    "    \"\"\"\n",
    "    model.fit(X_train.values)\n",
    "    train_density = model.predict(X_train.values)\n",
    "    test_density = model.predict(X_test.values)\n",
    "\n",
    "    epsilon, score, accuracy = select_threshold(y_train.values, train_density)\n",
    "\n",
    "    print(\"The optimal  threshold is:\", epsilon)\n",
    "    print(\"The optimal f1_score is:\", score)\n",
    "    print(\"The accuracy is:\", accuracy)\n",
    "\n",
    "    test_score = compute_score(y_test.values, test_density < epsilon)\n",
    "    print(\"F1-score when selecting features:\", test_score)"
   ]
  },
  {
   "cell_type": "code",
   "execution_count": 63,
   "metadata": {},
   "outputs": [
    {
     "name": "stdout",
     "output_type": "stream",
     "text": [
      "The optimal  threshold is: -0.998\n",
      "The optimal f1_score is: 0.04444444444444445\n",
      "The accuracy is: 0.9287371561153464\n",
      "F1-score when selecting features: 0.10169491525423728\n"
     ]
    }
   ],
   "source": [
    "fit_find_predict(\n",
    "    LocalOutlierFactor(novelty=True, n_neighbors=25),\n",
    "    X_train, y_train, X_test, y_test\n",
    ")"
   ]
  },
  {
   "cell_type": "code",
   "execution_count": 64,
   "metadata": {},
   "outputs": [],
   "source": [
    "from sklearn.svm import OneClassSVM"
   ]
  },
  {
   "cell_type": "code",
   "execution_count": 65,
   "metadata": {},
   "outputs": [
    {
     "name": "stdout",
     "output_type": "stream",
     "text": [
      "The optimal  threshold is: -0.998\n",
      "The optimal f1_score is: 0.09349336702463677\n",
      "The accuracy is: 0.5243619489559165\n",
      "F1-score when selecting features: 0.09069212410501193\n"
     ]
    }
   ],
   "source": [
    "fit_find_predict(\n",
    "    OneClassSVM(),\n",
    "    X_train, y_train, X_test, y_test\n",
    ")"
   ]
  },
  {
   "cell_type": "code",
   "execution_count": 66,
   "metadata": {},
   "outputs": [],
   "source": [
    "from sklearn.ensemble import IsolationForest"
   ]
  },
  {
   "cell_type": "code",
   "execution_count": 67,
   "metadata": {},
   "outputs": [
    {
     "name": "stdout",
     "output_type": "stream",
     "text": [
      "The optimal  threshold is: -0.998\n",
      "The optimal f1_score is: 0.3231850117096019\n",
      "The accuracy is: 0.9042094796155121\n",
      "F1-score when selecting features: 0.36538461538461536\n"
     ]
    }
   ],
   "source": [
    "fit_find_predict(\n",
    "    IsolationForest(random_state=41),\n",
    "    X_train, y_train, X_test, y_test\n",
    ")"
   ]
  },
  {
   "cell_type": "markdown",
   "metadata": {},
   "source": [
    "## Classification approach"
   ]
  },
  {
   "cell_type": "markdown",
   "metadata": {},
   "source": [
    "Try different classification approach such as :\n",
    "- Logistic regression\n",
    "- XGBoost classification"
   ]
  },
  {
   "cell_type": "code",
   "execution_count": 68,
   "metadata": {},
   "outputs": [],
   "source": [
    "from sklearn.linear_model import LogisticRegression\n",
    "from xgboost import XGBClassifier"
   ]
  },
  {
   "cell_type": "code",
   "execution_count": 69,
   "metadata": {},
   "outputs": [],
   "source": [
    "logistic: LogisticRegression = LogisticRegression().fit(X_train, y_train)"
   ]
  },
  {
   "cell_type": "code",
   "execution_count": 70,
   "metadata": {},
   "outputs": [
    {
     "data": {
      "text/plain": [
       "0.7272727272727273"
      ]
     },
     "execution_count": 70,
     "metadata": {},
     "output_type": "execute_result"
    }
   ],
   "source": [
    "preds = logistic.predict(X_test)\n",
    "\n",
    "compute_score(y_test.values, preds)"
   ]
  },
  {
   "cell_type": "code",
   "execution_count": 71,
   "metadata": {},
   "outputs": [],
   "source": [
    "xgb = XGBClassifier().fit(X_train, y_train)"
   ]
  },
  {
   "cell_type": "code",
   "execution_count": 72,
   "metadata": {},
   "outputs": [
    {
     "data": {
      "text/plain": [
       "0.9230769230769231"
      ]
     },
     "execution_count": 72,
     "metadata": {},
     "output_type": "execute_result"
    }
   ],
   "source": [
    "preds = xgb.predict(X_test)\n",
    "\n",
    "compute_score(y_test.values, preds)"
   ]
  },
  {
   "cell_type": "markdown",
   "metadata": {},
   "source": [
    "XGBoost is all you need, bye :-)"
   ]
  },
  {
   "cell_type": "code",
   "execution_count": null,
   "metadata": {},
   "outputs": [],
   "source": []
  }
 ],
 "metadata": {
  "kernelspec": {
   "display_name": "Python 3.9.12 ('base')",
   "language": "python",
   "name": "python3"
  },
  "language_info": {
   "codemirror_mode": {
    "name": "ipython",
    "version": 3
   },
   "file_extension": ".py",
   "mimetype": "text/x-python",
   "name": "python",
   "nbconvert_exporter": "python",
   "pygments_lexer": "ipython3",
   "version": "3.9.12"
  },
  "orig_nbformat": 4,
  "vscode": {
   "interpreter": {
    "hash": "d9a8acb4f733d3596df9f6fac9daff15e014d11794ebc65488d1c191c94698fd"
   }
  }
 },
 "nbformat": 4,
 "nbformat_minor": 2
}
